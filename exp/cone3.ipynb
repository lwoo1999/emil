{
 "metadata": {
  "language_info": {
   "codemirror_mode": {
    "name": "ipython",
    "version": 3
   },
   "file_extension": ".py",
   "mimetype": "text/x-python",
   "name": "python",
   "nbconvert_exporter": "python",
   "pygments_lexer": "ipython3",
   "version": "3.9.1"
  },
  "orig_nbformat": 2,
  "kernelspec": {
   "name": "python391jvsc74a57bd00dcf937d572fd001e2fa25734a47fddcc3882835fc4422cd9a0140bcc327526e",
   "display_name": "Python 3.9.1 64-bit ('base': conda)"
  }
 },
 "nbformat": 4,
 "nbformat_minor": 2,
 "cells": [
  {
   "cell_type": "code",
   "execution_count": 17,
   "metadata": {},
   "outputs": [],
   "source": [
    "%run cone1.py"
   ]
  },
  {
   "cell_type": "code",
   "execution_count": 2,
   "metadata": {},
   "outputs": [],
   "source": [
    "plt.rcParams.update({\n",
    "    \"text.usetex\": True,\n",
    "    \"font.family\": \"serif\",\n",
    "    \"font.serif\": [\"Palatino\"],\n",
    "    \"font.size\": 15\n",
    "})"
   ]
  },
  {
   "cell_type": "code",
   "execution_count": 3,
   "metadata": {},
   "outputs": [],
   "source": [
    "from matplotlib import cm\n",
    "\n",
    "color = cm.get_cmap(\"RdPu\")\n",
    "oiii_corrs = np.loadtxt(\"corr\")\n",
    "oiii_corrs_x = np.loadtxt(\"corr_x_\")\n",
    "corr_min = np.min(oiii_corrs)"
   ]
  },
  {
   "cell_type": "code",
   "execution_count": 210,
   "metadata": {},
   "outputs": [
    {
     "output_type": "execute_result",
     "data": {
      "text/plain": [
       "(-0.19618814710905794, -0.11526146837055426, -0.1321547374575117)"
      ]
     },
     "metadata": {},
     "execution_count": 210
    }
   ],
   "source": [
    "corr_min, np.min(cors_x), np.min(cors_s)"
   ]
  },
  {
   "cell_type": "code",
   "execution_count": 209,
   "metadata": {},
   "outputs": [],
   "source": [
    "cors_x = np.loadtxt(\"../src/cors_x\")[0]\n",
    "cors_s = np.loadtxt(\"../src/cors_s\")[0]\n",
    "\n",
    "cors_x_err = np.loadtxt(\"../src/cors_x\")[1]\n",
    "cors_s_err = np.loadtxt(\"../src/cors_s\")[1]"
   ]
  },
  {
   "cell_type": "code",
   "execution_count": 161,
   "metadata": {},
   "outputs": [],
   "source": [
    "_k = (0.19 - 0.16) / 0.1\n",
    "_b = 0.16 - 0.2 * _k"
   ]
  },
  {
   "cell_type": "code",
   "execution_count": 211,
   "metadata": {},
   "outputs": [
    {
     "output_type": "execute_result",
     "data": {
      "text/plain": [
       "0.154"
      ]
     },
     "metadata": {},
     "execution_count": 211
    }
   ],
   "source": [
    "0.18 * _k + _b"
   ]
  },
  {
   "cell_type": "code",
   "execution_count": 216,
   "metadata": {},
   "outputs": [
    {
     "output_type": "execute_result",
     "data": {
      "text/plain": [
       "-0.11703608823943759"
      ]
     },
     "metadata": {},
     "execution_count": 216
    }
   ],
   "source": [
    "tmp = []\n",
    "\n",
    "\n",
    "for i in range(100):\n",
    "    data = gen_data_frac(0.5, 0.139, 0.18)\n",
    "\n",
    "    res = opt.minimize(\n",
    "        lambda s: target(data, *s), \n",
    "        [_a_std, _b_std],\n",
    "        bounds=opt.Bounds(\n",
    "            [0, 0],\n",
    "            [np.inf, np.inf]\n",
    "        )\n",
    "    )\n",
    "\n",
    "    s_a, s_b = res.x\n",
    "    a, b, angle, sed = data\n",
    "    c = np.corrcoef(s_a * a + sed + np.log10(angle), s_b * b + sed + np.log10(1-angle))[0, 1]\n",
    "\n",
    "    # if np.abs(c - corr_min) < 1e-4:\n",
    "    #     break\n",
    "    tmp.append(c)\n",
    "\n",
    "np.mean(tmp)"
   ]
  },
  {
   "cell_type": "code",
   "execution_count": 218,
   "metadata": {},
   "outputs": [],
   "source": [
    "fk = 0.173\n",
    "\n",
    "while True:\n",
    "    data = gen_data_frac(0.5, 0.139, 0.18)\n",
    "\n",
    "    res = opt.minimize(\n",
    "        lambda s: target(data, *s), \n",
    "        [_a_std, _b_std],\n",
    "        bounds=opt.Bounds(\n",
    "            [0, 0],\n",
    "            [np.inf, np.inf]\n",
    "        )\n",
    "    )\n",
    "\n",
    "    s_a, s_b = res.x\n",
    "    a, b, angle, sed = data\n",
    "    c = np.corrcoef(s_a * a + sed + np.log10(angle), s_b * b + sed + np.log10(1-angle))[0, 1]\n",
    "\n",
    "    if np.abs(c - np.min(cors_x)) < 1e-4:\n",
    "        break"
   ]
  },
  {
   "cell_type": "code",
   "execution_count": 219,
   "metadata": {},
   "outputs": [
    {
     "output_type": "execute_result",
     "data": {
      "text/plain": [
       "(0.23512181204288599, 0.19884999123657107)"
      ]
     },
     "metadata": {},
     "execution_count": 219
    }
   ],
   "source": [
    "np.std(s_a * a + sed + np.log10(angle)), np.std(s_b * b + sed + np.log10(1-angle))"
   ]
  },
  {
   "cell_type": "code",
   "execution_count": 220,
   "metadata": {},
   "outputs": [
    {
     "output_type": "execute_result",
     "data": {
      "text/plain": [
       "0.1809614601955692"
      ]
     },
     "metadata": {},
     "execution_count": 220
    }
   ],
   "source": [
    "s_b ** 2 / _b_std ** 2"
   ]
  },
  {
   "cell_type": "code",
   "execution_count": 183,
   "metadata": {},
   "outputs": [
    {
     "output_type": "execute_result",
     "data": {
      "text/plain": [
       "(0.23511969832958668, 0.1988515228185253)"
      ]
     },
     "metadata": {},
     "execution_count": 183
    }
   ],
   "source": [
    "_a_std, _b_std"
   ]
  },
  {
   "cell_type": "code",
   "execution_count": 193,
   "metadata": {},
   "outputs": [
    {
     "output_type": "execute_result",
     "data": {
      "text/plain": [
       "0.14623944010094125"
      ]
     },
     "metadata": {},
     "execution_count": 193
    }
   ],
   "source": [
    "np.std(angle)"
   ]
  },
  {
   "cell_type": "code",
   "execution_count": 197,
   "metadata": {},
   "outputs": [
    {
     "output_type": "execute_result",
     "data": {
      "text/plain": [
       "0.09895406153407085"
      ]
     },
     "metadata": {},
     "execution_count": 197
    }
   ],
   "source": [
    "np.std(sed)"
   ]
  },
  {
   "cell_type": "code",
   "execution_count": 192,
   "metadata": {},
   "outputs": [
    {
     "output_type": "execute_result",
     "data": {
      "text/plain": [
       "(0.4966743413083278, 0.17712881494440508)"
      ]
     },
     "metadata": {},
     "execution_count": 192
    }
   ],
   "source": [
    "s_a**2/_a_std**2, np.std(sed) **2/_a_std**2"
   ]
  },
  {
   "cell_type": "code",
   "execution_count": 195,
   "metadata": {},
   "outputs": [
    {
     "output_type": "execute_result",
     "data": {
      "text/plain": [
       "(0.30493870314316823, 0.7667462785480147)"
      ]
     },
     "metadata": {},
     "execution_count": 195
    }
   ],
   "source": [
    "np.std(np.log10(angle)) ** 2/ np.std(s_a * a + sed + np.log10(angle))**2, np.std(np.log10(1 - angle)) ** 2 / np.std(s_b * b + sed + np.log10(1-angle))**2"
   ]
  },
  {
   "cell_type": "code",
   "execution_count": 196,
   "metadata": {},
   "outputs": [
    {
     "output_type": "execute_result",
     "data": {
      "text/plain": [
       "(0.17712641827619266, 0.24382160683230636)"
      ]
     },
     "metadata": {},
     "execution_count": 196
    }
   ],
   "source": [
    "np.std(sed) ** 2/ np.std(s_a * a + sed + np.log10(angle))**2, np.std(sed) ** 2 / np.std(s_b * b + sed + np.log10(1-angle))**2"
   ]
  },
  {
   "cell_type": "code",
   "execution_count": 87,
   "metadata": {},
   "outputs": [
    {
     "output_type": "execute_result",
     "data": {
      "text/plain": [
       "(0.23511969832958668, 0.1988515228185253)"
      ]
     },
     "metadata": {},
     "execution_count": 87
    }
   ],
   "source": [
    "_a_std, _b_std"
   ]
  },
  {
   "cell_type": "code",
   "execution_count": 76,
   "metadata": {},
   "outputs": [
    {
     "output_type": "execute_result",
     "data": {
      "text/plain": [
       "0.10605228723474878"
      ]
     },
     "metadata": {},
     "execution_count": 76
    }
   ],
   "source": [
    "np.std(sed)"
   ]
  },
  {
   "cell_type": "code",
   "execution_count": 77,
   "metadata": {},
   "outputs": [
    {
     "output_type": "execute_result",
     "data": {
      "text/plain": [
       "0.30249999999999994"
      ]
     },
     "metadata": {},
     "execution_count": 77
    }
   ],
   "source": [
    "0.11**2/0.2**2"
   ]
  },
  {
   "cell_type": "code",
   "execution_count": 198,
   "metadata": {},
   "outputs": [],
   "source": [
    "@np.vectorize\n",
    "def frac2corrfrac(polar_frac):\n",
    "    a_ = s_a * a + sed + np.log10(angle)\n",
    "    b_torus = s_b * b + np.log10(1 - polar_frac) + sed + np.log10(1 - angle)\n",
    "    b_polar = s_a * a + np.log10(polar_frac) + sed + np.log10(angle)\n",
    "    b_ = np.log10(10 ** b_torus + 10 ** b_polar)\n",
    "    frac = 10**np.mean(b_polar - b_)\n",
    "    return [np.corrcoef(a_, b_)[0, 1], frac]"
   ]
  },
  {
   "cell_type": "code",
   "execution_count": 199,
   "metadata": {},
   "outputs": [
    {
     "output_type": "stream",
     "name": "stderr",
     "text": [
      "<ipython-input-198-7af2a77eb555>:5: RuntimeWarning: divide by zero encountered in log10\n  b_polar = s_a * a + np.log10(polar_frac) + sed + np.log10(angle)\n<ipython-input-198-7af2a77eb555>:4: RuntimeWarning: divide by zero encountered in log10\n  b_torus = s_b * b + np.log10(1 - polar_frac) + sed + np.log10(1 - angle)\n"
     ]
    }
   ],
   "source": [
    "from scipy.interpolate import CubicSpline\n",
    "\n",
    "f = np.linspace(0,1)\n",
    "res = np.array([frac2corrfrac(f) for f in f])\n",
    "frac = res[:,1]\n",
    "corr = res[:,0]\n",
    "frac2corr = CubicSpline(frac, corr)"
   ]
  },
  {
   "cell_type": "code",
   "execution_count": 200,
   "metadata": {},
   "outputs": [
    {
     "output_type": "execute_result",
     "data": {
      "text/plain": [
       "[<matplotlib.lines.Line2D at 0x13ec03070>]"
      ]
     },
     "metadata": {},
     "execution_count": 200
    },
    {
     "output_type": "display_data",
     "data": {
      "text/plain": "<Figure size 432x288 with 1 Axes>",
      "image/svg+xml": "<?xml version=\"1.0\" encoding=\"utf-8\" standalone=\"no\"?>\n<!DOCTYPE svg PUBLIC \"-//W3C//DTD SVG 1.1//EN\"\n  \"http://www.w3.org/Graphics/SVG/1.1/DTD/svg11.dtd\">\n<!-- Created with matplotlib (https://matplotlib.org/) -->\n<svg height=\"253.746473pt\" version=\"1.1\" viewBox=\"0 0 387.171215 253.746473\" width=\"387.171215pt\" xmlns=\"http://www.w3.org/2000/svg\" xmlns:xlink=\"http://www.w3.org/1999/xlink\">\n <metadata>\n  <rdf:RDF xmlns:cc=\"http://creativecommons.org/ns#\" xmlns:dc=\"http://purl.org/dc/elements/1.1/\" xmlns:rdf=\"http://www.w3.org/1999/02/22-rdf-syntax-ns#\">\n   <cc:Work>\n    <dc:type rdf:resource=\"http://purl.org/dc/dcmitype/StillImage\"/>\n    <dc:date>2021-11-22T17:08:59.362112</dc:date>\n    <dc:format>image/svg+xml</dc:format>\n    <dc:creator>\n     <cc:Agent>\n      <dc:title>Matplotlib v3.3.4, https://matplotlib.org/</dc:title>\n     </cc:Agent>\n    </dc:creator>\n   </cc:Work>\n  </rdf:RDF>\n </metadata>\n <defs>\n  <style type=\"text/css\">*{stroke-linecap:butt;stroke-linejoin:round;}</style>\n </defs>\n <g id=\"figure_1\">\n  <g id=\"patch_1\">\n   <path d=\"M 0 253.746473 \nL 387.171215 253.746473 \nL 387.171215 0 \nL 0 0 \nz\n\" style=\"fill:none;\"/>\n  </g>\n  <g id=\"axes_1\">\n   <g id=\"patch_2\">\n    <path d=\"M 45.171215 224.64 \nL 379.971215 224.64 \nL 379.971215 7.2 \nL 45.171215 7.2 \nz\n\" style=\"fill:#ffffff;\"/>\n   </g>\n   <g id=\"matplotlib.axis_1\">\n    <g id=\"xtick_1\">\n     <g id=\"line2d_1\">\n      <defs>\n       <path d=\"M 0 0 \nL 0 3.5 \n\" id=\"mf8b1f11be5\" style=\"stroke:#000000;stroke-width:0.8;\"/>\n      </defs>\n      <g>\n       <use style=\"stroke:#000000;stroke-width:0.8;\" x=\"60.389396\" xlink:href=\"#mf8b1f11be5\" y=\"224.64\"/>\n      </g>\n     </g>\n     <g id=\"text_1\">\n      <!-- $\\mathdefault{0.0}$ -->\n      <g transform=\"translate(51.049421 242.332356)scale(0.15 -0.15)\">\n       <defs>\n        <path d=\"M 26.296875 69 \nC 10.796875 69 2.90625 56.6875 2.90625 32.4375 \nC 2.90625 20.71875 5 10.609375 8.5 5.703125 \nC 12 0.796875 17.59375 -2 23.796875 -2 \nC 38.90625 -2 46.5 11 46.5 36.640625 \nC 46.5 58.578125 40 69 26.296875 69 \nz\nM 24.5 65.484375 \nC 34.203125 65.484375 38.09375 55.671875 38.09375 31.640625 \nC 38.09375 10.3125 34.296875 1.5 25.09375 1.5 \nC 15.40625 1.5 11.296875 11.609375 11.296875 36.046875 \nC 11.296875 57.1875 15 65.484375 24.5 65.484375 \nz\n\" id=\"URW_Palladio_L_Roman-48\"/>\n        <path d=\"M 12.40625 10.59375 \nC 9.40625 10.59375 6.703125 7.796875 6.703125 4.796875 \nC 6.703125 1.796875 9.40625 -1 12.296875 -1 \nC 15.5 -1 18.296875 1.6875 18.296875 4.796875 \nC 18.296875 7.796875 15.5 10.59375 12.40625 10.59375 \nz\n\" id=\"URW_Palladio_L_Roman-46\"/>\n       </defs>\n       <use transform=\"scale(0.996264)\" xlink:href=\"#URW_Palladio_L_Roman-48\"/>\n       <use transform=\"translate(49.8132 0)scale(0.996264)\" xlink:href=\"#URW_Palladio_L_Roman-46\"/>\n       <use transform=\"translate(74.719801 0)scale(0.996264)\" xlink:href=\"#URW_Palladio_L_Roman-48\"/>\n      </g>\n     </g>\n    </g>\n    <g id=\"xtick_2\">\n     <g id=\"line2d_2\">\n      <g>\n       <use style=\"stroke:#000000;stroke-width:0.8;\" x=\"121.262124\" xlink:href=\"#mf8b1f11be5\" y=\"224.64\"/>\n      </g>\n     </g>\n     <g id=\"text_2\">\n      <!-- $\\mathdefault{0.2}$ -->\n      <g transform=\"translate(111.922149 242.332356)scale(0.15 -0.15)\">\n       <defs>\n        <path d=\"M 1.59375 2.59375 \nL 1.59375 0 \nC 20.296875 0 20.296875 0 23.90625 0 \nC 27.5 0.296875 27.5 0.296875 46.796875 0 \nC 46.59375 2.09375 46.59375 3.09375 46.59375 4.484375 \nC 46.59375 5.78125 46.59375 6.78125 46.796875 8.96875 \nC 35.296875 8.46875 30.703125 8.375 12.203125 7.96875 \nL 30.40625 27.203125 \nC 40.09375 37.46875 43.09375 42.953125 43.09375 50.4375 \nC 43.09375 61.890625 35.296875 69 22.59375 69 \nC 15.40625 69 10.5 66.984375 5.59375 61.984375 \nL 3.90625 48.4375 \nL 6.796875 48.4375 \nL 8.09375 53.03125 \nC 9.703125 58.796875 13.296875 61.296875 20 61.296875 \nC 28.59375 61.296875 34.09375 55.90625 34.09375 47.4375 \nC 34.09375 39.96875 29.90625 32.59375 18.59375 20.625 \nz\n\" id=\"URW_Palladio_L_Roman-50\"/>\n       </defs>\n       <use transform=\"scale(0.996264)\" xlink:href=\"#URW_Palladio_L_Roman-48\"/>\n       <use transform=\"translate(49.8132 0)scale(0.996264)\" xlink:href=\"#URW_Palladio_L_Roman-46\"/>\n       <use transform=\"translate(74.719801 0)scale(0.996264)\" xlink:href=\"#URW_Palladio_L_Roman-50\"/>\n      </g>\n     </g>\n    </g>\n    <g id=\"xtick_3\">\n     <g id=\"line2d_3\">\n      <g>\n       <use style=\"stroke:#000000;stroke-width:0.8;\" x=\"182.134851\" xlink:href=\"#mf8b1f11be5\" y=\"224.64\"/>\n      </g>\n     </g>\n     <g id=\"text_3\">\n      <!-- $\\mathdefault{0.4}$ -->\n      <g transform=\"translate(172.794876 242.332356)scale(0.15 -0.15)\">\n       <defs>\n        <path d=\"M 28 18 \nL 28 10.6875 \nC 28 4.84375 26.90625 3.484375 22 3.28125 \nL 15.796875 3 \nL 15.796875 0 \nC 29.09375 0 29.09375 0 31.5 0 \nC 33.90625 0.296875 33.90625 0.296875 47.203125 0 \nL 47.203125 3 \nL 42.40625 3.28125 \nC 37.5 3.578125 36.40625 4.84375 36.40625 10.6875 \nL 36.40625 18 \nC 42.296875 18 44.40625 17.890625 47.203125 17.609375 \nL 47.203125 24.6875 \nC 42.5 24.296875 40.59375 24.296875 39.09375 24.390625 \nL 38.796875 24.390625 \nL 36.40625 24.390625 \nL 36.40625 38.203125 \nC 36.40625 55.875 36.59375 64.40625 37.09375 68.484375 \nL 35.90625 69 \nL 28.5 66.296875 \nL 0.203125 20.296875 \nL 1.296875 18 \nz\nM 28 24.390625 \nL 6.5 24.390625 \nL 28 59.34375 \nz\n\" id=\"URW_Palladio_L_Roman-52\"/>\n       </defs>\n       <use transform=\"scale(0.996264)\" xlink:href=\"#URW_Palladio_L_Roman-48\"/>\n       <use transform=\"translate(49.8132 0)scale(0.996264)\" xlink:href=\"#URW_Palladio_L_Roman-46\"/>\n       <use transform=\"translate(74.719801 0)scale(0.996264)\" xlink:href=\"#URW_Palladio_L_Roman-52\"/>\n      </g>\n     </g>\n    </g>\n    <g id=\"xtick_4\">\n     <g id=\"line2d_4\">\n      <g>\n       <use style=\"stroke:#000000;stroke-width:0.8;\" x=\"243.007578\" xlink:href=\"#mf8b1f11be5\" y=\"224.64\"/>\n      </g>\n     </g>\n     <g id=\"text_4\">\n      <!-- $\\mathdefault{0.6}$ -->\n      <g transform=\"translate(233.667603 242.332356)scale(0.15 -0.15)\">\n       <defs>\n        <path d=\"M 41.59375 66.984375 \nL 37.90625 68.6875 \nC 28.296875 65.515625 24.203125 63.53125 19.09375 59.1875 \nC 8.796875 50.578125 3.203125 38.484375 3.203125 24.765625 \nC 3.203125 8.21875 11.203125 -2 24.09375 -2 \nC 37.09375 -2 46.796875 8.3125 46.796875 21.953125 \nC 46.796875 33.484375 39.90625 41 29.296875 41 \nC 24.296875 41 21.296875 39.6875 15.40625 34.984375 \nC 14.296875 34.09375 14.203125 33.984375 13.09375 33.1875 \nC 15.203125 51.171875 23.59375 60.859375 41.59375 66.203125 \nz\nM 25.5 34.984375 \nC 33.09375 34.984375 38.203125 28.375 38.203125 18.4375 \nC 38.203125 8.015625 33.09375 1.296875 25.40625 1.296875 \nC 16.90625 1.296875 12.296875 8.609375 12.296875 22.046875 \nC 12.296875 25.5625 12.703125 27.46875 13.796875 29.171875 \nC 16 32.578125 20.703125 34.984375 25.5 34.984375 \nz\n\" id=\"URW_Palladio_L_Roman-54\"/>\n       </defs>\n       <use transform=\"scale(0.996264)\" xlink:href=\"#URW_Palladio_L_Roman-48\"/>\n       <use transform=\"translate(49.8132 0)scale(0.996264)\" xlink:href=\"#URW_Palladio_L_Roman-46\"/>\n       <use transform=\"translate(74.719801 0)scale(0.996264)\" xlink:href=\"#URW_Palladio_L_Roman-54\"/>\n      </g>\n     </g>\n    </g>\n    <g id=\"xtick_5\">\n     <g id=\"line2d_5\">\n      <g>\n       <use style=\"stroke:#000000;stroke-width:0.8;\" x=\"303.880305\" xlink:href=\"#mf8b1f11be5\" y=\"224.64\"/>\n      </g>\n     </g>\n     <g id=\"text_5\">\n      <!-- $\\mathdefault{0.8}$ -->\n      <g transform=\"translate(294.54033 242.332356)scale(0.15 -0.15)\">\n       <defs>\n        <path d=\"M 16.796875 34.546875 \nC 12.703125 32.640625 11 31.546875 8.796875 29.4375 \nC 5 25.625 3 21.125 3 15.921875 \nC 3 5.59375 11.296875 -2 22.59375 -2 \nC 35.59375 -2 46.40625 8.203125 46.40625 20.625 \nC 46.40625 28.640625 42.703125 32.9375 31.296875 38.15625 \nC 40.40625 44.359375 43.59375 48.5625 43.59375 54.578125 \nC 43.59375 63.1875 36.5 69 25.90625 69 \nC 14 69 5.296875 61.390625 5.296875 50.875 \nC 5.296875 44.0625 8 40.25 16.796875 34.546875 \nz\nM 28.40625 29.53125 \nC 34.703125 26.734375 38.5 21.828125 38.5 16.421875 \nC 38.5 8 32.203125 1.390625 24.09375 1.390625 \nC 15.59375 1.390625 10.09375 7.40625 10.09375 16.71875 \nC 10.09375 24.03125 13 28.640625 20.40625 33.140625 \nz\nM 22.296875 42.359375 \nC 16 45.46875 12.796875 49.46875 12.796875 54.46875 \nC 12.796875 61.09375 17.59375 65.59375 24.703125 65.59375 \nC 32 65.59375 36.796875 60.78125 36.796875 53.46875 \nC 36.796875 47.765625 34.296875 43.859375 27.796875 39.65625 \nz\n\" id=\"URW_Palladio_L_Roman-56\"/>\n       </defs>\n       <use transform=\"scale(0.996264)\" xlink:href=\"#URW_Palladio_L_Roman-48\"/>\n       <use transform=\"translate(49.8132 0)scale(0.996264)\" xlink:href=\"#URW_Palladio_L_Roman-46\"/>\n       <use transform=\"translate(74.719801 0)scale(0.996264)\" xlink:href=\"#URW_Palladio_L_Roman-56\"/>\n      </g>\n     </g>\n    </g>\n    <g id=\"xtick_6\">\n     <g id=\"line2d_6\">\n      <g>\n       <use style=\"stroke:#000000;stroke-width:0.8;\" x=\"364.753033\" xlink:href=\"#mf8b1f11be5\" y=\"224.64\"/>\n      </g>\n     </g>\n     <g id=\"text_6\">\n      <!-- $\\mathdefault{1.0}$ -->\n      <g transform=\"translate(355.413058 242.332356)scale(0.15 -0.15)\">\n       <defs>\n        <path d=\"M 6.703125 55.796875 \nL 7.703125 55.796875 \nL 20.59375 61.59375 \nC 20.703125 61.703125 20.796875 61.703125 20.90625 61.703125 \nC 21.5 61.703125 21.703125 60.796875 21.703125 58.390625 \nL 21.703125 9.890625 \nC 21.703125 4.6875 20.59375 3.59375 15.203125 3.296875 \nL 9.59375 3 \nL 9.59375 0 \nC 25 0 25 0 26.09375 0 \nC 27.40625 0 29.59375 0 33 -0.109375 \nC 34.203125 0.09375 37.703125 0.09375 41.796875 0 \nL 41.796875 3 \nL 36.59375 3.296875 \nC 31.09375 3.578125 30.09375 4.671875 30.09375 9.8125 \nL 30.09375 68.484375 \nL 28.703125 69 \nC 22.203125 65.609375 15.09375 62.640625 6 59.484375 \nz\n\" id=\"URW_Palladio_L_Roman-49\"/>\n       </defs>\n       <use transform=\"scale(0.996264)\" xlink:href=\"#URW_Palladio_L_Roman-49\"/>\n       <use transform=\"translate(49.8132 0)scale(0.996264)\" xlink:href=\"#URW_Palladio_L_Roman-46\"/>\n       <use transform=\"translate(74.719801 0)scale(0.996264)\" xlink:href=\"#URW_Palladio_L_Roman-48\"/>\n      </g>\n     </g>\n    </g>\n   </g>\n   <g id=\"matplotlib.axis_2\">\n    <g id=\"ytick_1\">\n     <g id=\"line2d_7\">\n      <defs>\n       <path d=\"M 0 0 \nL -3.5 0 \n\" id=\"m1068ad4b9b\" style=\"stroke:#000000;stroke-width:0.8;\"/>\n      </defs>\n      <g>\n       <use style=\"stroke:#000000;stroke-width:0.8;\" x=\"45.171215\" xlink:href=\"#m1068ad4b9b\" y=\"215.389852\"/>\n      </g>\n     </g>\n     <g id=\"text_7\">\n      <!-- $\\mathdefault{−0.2}$ -->\n      <g transform=\"translate(7.2 220.73603)scale(0.15 -0.15)\">\n       <defs>\n        <path d=\"M 65.90625 23 \nC 67.59375 23 69.40625 23 69.40625 25 \nC 69.40625 27 67.59375 27 65.90625 27 \nL 11.796875 27 \nC 10.09375 27 8.296875 27 8.296875 25 \nC 8.296875 23 10.09375 23 11.796875 23 \nz\n\" id=\"CMSY10-0\"/>\n       </defs>\n       <use transform=\"scale(1.038107)\" xlink:href=\"#CMSY10-0\"/>\n       <use transform=\"translate(81.941696 0)scale(0.996264)\" xlink:href=\"#URW_Palladio_L_Roman-48\"/>\n       <use transform=\"translate(131.754897 0)scale(0.996264)\" xlink:href=\"#URW_Palladio_L_Roman-46\"/>\n       <use transform=\"translate(156.661497 0)scale(0.996264)\" xlink:href=\"#URW_Palladio_L_Roman-50\"/>\n      </g>\n     </g>\n    </g>\n    <g id=\"ytick_2\">\n     <g id=\"line2d_8\">\n      <g>\n       <use style=\"stroke:#000000;stroke-width:0.8;\" x=\"45.171215\" xlink:href=\"#m1068ad4b9b\" y=\"182.338816\"/>\n      </g>\n     </g>\n     <g id=\"text_8\">\n      <!-- $\\mathdefault{0.0}$ -->\n      <g transform=\"translate(19.491264 187.684994)scale(0.15 -0.15)\">\n       <use transform=\"scale(0.996264)\" xlink:href=\"#URW_Palladio_L_Roman-48\"/>\n       <use transform=\"translate(49.8132 0)scale(0.996264)\" xlink:href=\"#URW_Palladio_L_Roman-46\"/>\n       <use transform=\"translate(74.719801 0)scale(0.996264)\" xlink:href=\"#URW_Palladio_L_Roman-48\"/>\n      </g>\n     </g>\n    </g>\n    <g id=\"ytick_3\">\n     <g id=\"line2d_9\">\n      <g>\n       <use style=\"stroke:#000000;stroke-width:0.8;\" x=\"45.171215\" xlink:href=\"#m1068ad4b9b\" y=\"149.28778\"/>\n      </g>\n     </g>\n     <g id=\"text_9\">\n      <!-- $\\mathdefault{0.2}$ -->\n      <g transform=\"translate(19.491264 154.633958)scale(0.15 -0.15)\">\n       <use transform=\"scale(0.996264)\" xlink:href=\"#URW_Palladio_L_Roman-48\"/>\n       <use transform=\"translate(49.8132 0)scale(0.996264)\" xlink:href=\"#URW_Palladio_L_Roman-46\"/>\n       <use transform=\"translate(74.719801 0)scale(0.996264)\" xlink:href=\"#URW_Palladio_L_Roman-50\"/>\n      </g>\n     </g>\n    </g>\n    <g id=\"ytick_4\">\n     <g id=\"line2d_10\">\n      <g>\n       <use style=\"stroke:#000000;stroke-width:0.8;\" x=\"45.171215\" xlink:href=\"#m1068ad4b9b\" y=\"116.236744\"/>\n      </g>\n     </g>\n     <g id=\"text_10\">\n      <!-- $\\mathdefault{0.4}$ -->\n      <g transform=\"translate(19.491264 121.582922)scale(0.15 -0.15)\">\n       <use transform=\"scale(0.996264)\" xlink:href=\"#URW_Palladio_L_Roman-48\"/>\n       <use transform=\"translate(49.8132 0)scale(0.996264)\" xlink:href=\"#URW_Palladio_L_Roman-46\"/>\n       <use transform=\"translate(74.719801 0)scale(0.996264)\" xlink:href=\"#URW_Palladio_L_Roman-52\"/>\n      </g>\n     </g>\n    </g>\n    <g id=\"ytick_5\">\n     <g id=\"line2d_11\">\n      <g>\n       <use style=\"stroke:#000000;stroke-width:0.8;\" x=\"45.171215\" xlink:href=\"#m1068ad4b9b\" y=\"83.185708\"/>\n      </g>\n     </g>\n     <g id=\"text_11\">\n      <!-- $\\mathdefault{0.6}$ -->\n      <g transform=\"translate(19.491264 88.531886)scale(0.15 -0.15)\">\n       <use transform=\"scale(0.996264)\" xlink:href=\"#URW_Palladio_L_Roman-48\"/>\n       <use transform=\"translate(49.8132 0)scale(0.996264)\" xlink:href=\"#URW_Palladio_L_Roman-46\"/>\n       <use transform=\"translate(74.719801 0)scale(0.996264)\" xlink:href=\"#URW_Palladio_L_Roman-54\"/>\n      </g>\n     </g>\n    </g>\n    <g id=\"ytick_6\">\n     <g id=\"line2d_12\">\n      <g>\n       <use style=\"stroke:#000000;stroke-width:0.8;\" x=\"45.171215\" xlink:href=\"#m1068ad4b9b\" y=\"50.134672\"/>\n      </g>\n     </g>\n     <g id=\"text_12\">\n      <!-- $\\mathdefault{0.8}$ -->\n      <g transform=\"translate(19.491264 55.48085)scale(0.15 -0.15)\">\n       <use transform=\"scale(0.996264)\" xlink:href=\"#URW_Palladio_L_Roman-48\"/>\n       <use transform=\"translate(49.8132 0)scale(0.996264)\" xlink:href=\"#URW_Palladio_L_Roman-46\"/>\n       <use transform=\"translate(74.719801 0)scale(0.996264)\" xlink:href=\"#URW_Palladio_L_Roman-56\"/>\n      </g>\n     </g>\n    </g>\n    <g id=\"ytick_7\">\n     <g id=\"line2d_13\">\n      <g>\n       <use style=\"stroke:#000000;stroke-width:0.8;\" x=\"45.171215\" xlink:href=\"#m1068ad4b9b\" y=\"17.083636\"/>\n      </g>\n     </g>\n     <g id=\"text_13\">\n      <!-- $\\mathdefault{1.0}$ -->\n      <g transform=\"translate(19.491264 22.429814)scale(0.15 -0.15)\">\n       <use transform=\"scale(0.996264)\" xlink:href=\"#URW_Palladio_L_Roman-49\"/>\n       <use transform=\"translate(49.8132 0)scale(0.996264)\" xlink:href=\"#URW_Palladio_L_Roman-46\"/>\n       <use transform=\"translate(74.719801 0)scale(0.996264)\" xlink:href=\"#URW_Palladio_L_Roman-48\"/>\n      </g>\n     </g>\n    </g>\n   </g>\n   <g id=\"line2d_14\">\n    <path clip-path=\"url(#p802295cb1e)\" d=\"M 60.389396 214.756364 \nL 67.821569 208.6376 \nL 75.074802 202.228044 \nL 82.17568 195.5806 \nL 89.142377 188.710738 \nL 95.989156 181.635977 \nL 102.727815 174.37883 \nL 109.36842 166.967284 \nL 115.919734 159.434665 \nL 122.389511 151.819154 \nL 128.784694 144.163013 \nL 135.111568 136.511539 \nL 141.375871 128.911798 \nL 147.582886 121.411201 \nL 153.737509 114.056018 \nL 159.844308 106.889933 \nL 165.907573 99.952732 \nL 171.931354 93.279226 \nL 177.919499 86.898462 \nL 183.87568 80.83326 \nL 189.803424 75.10007 \nL 195.706132 69.709131 \nL 201.587104 64.664875 \nL 207.449555 59.966516 \nL 213.296637 55.608764 \nL 219.131454 51.58259 \nL 224.957078 47.876005 \nL 230.776566 44.4748 \nL 236.592976 41.36322 \nL 242.409385 38.524561 \nL 248.228901 35.941669 \nL 254.054686 33.597358 \nL 259.889975 31.474739 \nL 265.738091 29.557466 \nL 271.602475 27.829927 \nL 277.486708 26.277372 \nL 283.394543 24.885993 \nL 289.329936 23.642979 \nL 295.297094 22.536538 \nL 301.300518 21.5559 \nL 307.345071 20.691316 \nL 313.436051 19.934053 \nL 319.579293 19.276399 \nL 325.781303 18.711683 \nL 332.049443 18.234341 \nL 338.392196 17.840051 \nL 344.819582 17.526032 \nL 351.343848 17.291688 \nL 357.980807 17.140216 \nL 364.753033 17.083636 \n\" style=\"fill:none;stroke:#1f77b4;stroke-linecap:square;stroke-width:1.5;\"/>\n   </g>\n   <g id=\"patch_3\">\n    <path d=\"M 45.171215 224.64 \nL 45.171215 7.2 \n\" style=\"fill:none;stroke:#000000;stroke-linecap:square;stroke-linejoin:miter;stroke-width:0.8;\"/>\n   </g>\n   <g id=\"patch_4\">\n    <path d=\"M 379.971215 224.64 \nL 379.971215 7.2 \n\" style=\"fill:none;stroke:#000000;stroke-linecap:square;stroke-linejoin:miter;stroke-width:0.8;\"/>\n   </g>\n   <g id=\"patch_5\">\n    <path d=\"M 45.171215 224.64 \nL 379.971215 224.64 \n\" style=\"fill:none;stroke:#000000;stroke-linecap:square;stroke-linejoin:miter;stroke-width:0.8;\"/>\n   </g>\n   <g id=\"patch_6\">\n    <path d=\"M 45.171215 7.2 \nL 379.971215 7.2 \n\" style=\"fill:none;stroke:#000000;stroke-linecap:square;stroke-linejoin:miter;stroke-width:0.8;\"/>\n   </g>\n  </g>\n </g>\n <defs>\n  <clipPath id=\"p802295cb1e\">\n   <rect height=\"217.44\" width=\"334.8\" x=\"45.171215\" y=\"7.2\"/>\n  </clipPath>\n </defs>\n</svg>\n",
      "image/png": "[encoded data removed]"
     },
     "metadata": {
      "needs_background": "light"
     }
    }
   ],
   "source": [
    "plt.plot(frac, corr)"
   ]
  },
  {
   "cell_type": "code",
   "execution_count": 206,
   "metadata": {},
   "outputs": [],
   "source": [
    "cors_std = np.loadtxt(\"../src/cors_std\")"
   ]
  },
  {
   "cell_type": "code",
   "execution_count": 207,
   "metadata": {},
   "outputs": [],
   "source": [
    "corr2frac = CubicSpline(corr1, frac1)\n",
    "frac = corr2frac1(oiii_corrs)\n",
    "frac_up = corr2frac0(oiii_corrs + cors_std)\n",
    "frac_low = corr2frac0(oiii_corrs - cors_std)"
   ]
  },
  {
   "cell_type": "code",
   "execution_count": 202,
   "metadata": {},
   "outputs": [],
   "source": [
    "frac_ = np.loadtxt(\"frac0\")"
   ]
  },
  {
   "cell_type": "code",
   "execution_count": 204,
   "metadata": {},
   "outputs": [
    {
     "output_type": "execute_result",
     "data": {
      "text/plain": [
       "[<matplotlib.lines.Line2D at 0x13f2e01c0>]"
      ]
     },
     "metadata": {},
     "execution_count": 204
    },
    {
     "output_type": "display_data",
     "data": {
      "text/plain": "<Figure size 432x288 with 1 Axes>",
      "image/svg+xml": "<?xml version=\"1.0\" encoding=\"utf-8\" standalone=\"no\"?>\n<!DOCTYPE svg PUBLIC \"-//W3C//DTD SVG 1.1//EN\"\n  \"http://www.w3.org/Graphics/SVG/1.1/DTD/svg11.dtd\">\n<!-- Created with matplotlib (https://matplotlib.org/) -->\n<svg height=\"253.746473pt\" version=\"1.1\" viewBox=\"0 0 374.87995 253.746473\" width=\"374.87995pt\" xmlns=\"http://www.w3.org/2000/svg\" xmlns:xlink=\"http://www.w3.org/1999/xlink\">\n <metadata>\n  <rdf:RDF xmlns:cc=\"http://creativecommons.org/ns#\" xmlns:dc=\"http://purl.org/dc/elements/1.1/\" xmlns:rdf=\"http://www.w3.org/1999/02/22-rdf-syntax-ns#\">\n   <cc:Work>\n    <dc:type rdf:resource=\"http://purl.org/dc/dcmitype/StillImage\"/>\n    <dc:date>2021-11-22T17:09:21.788179</dc:date>\n    <dc:format>image/svg+xml</dc:format>\n    <dc:creator>\n     <cc:Agent>\n      <dc:title>Matplotlib v3.3.4, https://matplotlib.org/</dc:title>\n     </cc:Agent>\n    </dc:creator>\n   </cc:Work>\n  </rdf:RDF>\n </metadata>\n <defs>\n  <style type=\"text/css\">*{stroke-linecap:butt;stroke-linejoin:round;}</style>\n </defs>\n <g id=\"figure_1\">\n  <g id=\"patch_1\">\n   <path d=\"M 0 253.746473 \nL 374.87995 253.746473 \nL 374.87995 0 \nL 0 0 \nz\n\" style=\"fill:none;\"/>\n  </g>\n  <g id=\"axes_1\">\n   <g id=\"patch_2\">\n    <path d=\"M 32.87995 224.64 \nL 367.67995 224.64 \nL 367.67995 7.2 \nL 32.87995 7.2 \nz\n\" style=\"fill:#ffffff;\"/>\n   </g>\n   <g id=\"matplotlib.axis_1\">\n    <g id=\"xtick_1\">\n     <g id=\"line2d_1\">\n      <defs>\n       <path d=\"M 0 0 \nL 0 3.5 \n\" id=\"m961184314e\" style=\"stroke:#000000;stroke-width:0.8;\"/>\n      </defs>\n      <g>\n       <use style=\"stroke:#000000;stroke-width:0.8;\" x=\"94.213834\" xlink:href=\"#m961184314e\" y=\"224.64\"/>\n      </g>\n     </g>\n     <g id=\"text_1\">\n      <!-- $\\mathdefault{4}$ -->\n      <g transform=\"translate(90.477844 242.332356)scale(0.15 -0.15)\">\n       <defs>\n        <path d=\"M 28 18 \nL 28 10.6875 \nC 28 4.84375 26.90625 3.484375 22 3.28125 \nL 15.796875 3 \nL 15.796875 0 \nC 29.09375 0 29.09375 0 31.5 0 \nC 33.90625 0.296875 33.90625 0.296875 47.203125 0 \nL 47.203125 3 \nL 42.40625 3.28125 \nC 37.5 3.578125 36.40625 4.84375 36.40625 10.6875 \nL 36.40625 18 \nC 42.296875 18 44.40625 17.890625 47.203125 17.609375 \nL 47.203125 24.6875 \nC 42.5 24.296875 40.59375 24.296875 39.09375 24.390625 \nL 38.796875 24.390625 \nL 36.40625 24.390625 \nL 36.40625 38.203125 \nC 36.40625 55.875 36.59375 64.40625 37.09375 68.484375 \nL 35.90625 69 \nL 28.5 66.296875 \nL 0.203125 20.296875 \nL 1.296875 18 \nz\nM 28 24.390625 \nL 6.5 24.390625 \nL 28 59.34375 \nz\n\" id=\"URW_Palladio_L_Roman-52\"/>\n       </defs>\n       <use transform=\"scale(0.996264)\" xlink:href=\"#URW_Palladio_L_Roman-52\"/>\n      </g>\n     </g>\n    </g>\n    <g id=\"xtick_2\">\n     <g id=\"line2d_2\">\n      <g>\n       <use style=\"stroke:#000000;stroke-width:0.8;\" x=\"158.775818\" xlink:href=\"#m961184314e\" y=\"224.64\"/>\n      </g>\n     </g>\n     <g id=\"text_2\">\n      <!-- $\\mathdefault{6}$ -->\n      <g transform=\"translate(155.039828 242.332356)scale(0.15 -0.15)\">\n       <defs>\n        <path d=\"M 41.59375 66.984375 \nL 37.90625 68.6875 \nC 28.296875 65.515625 24.203125 63.53125 19.09375 59.1875 \nC 8.796875 50.578125 3.203125 38.484375 3.203125 24.765625 \nC 3.203125 8.21875 11.203125 -2 24.09375 -2 \nC 37.09375 -2 46.796875 8.3125 46.796875 21.953125 \nC 46.796875 33.484375 39.90625 41 29.296875 41 \nC 24.296875 41 21.296875 39.6875 15.40625 34.984375 \nC 14.296875 34.09375 14.203125 33.984375 13.09375 33.1875 \nC 15.203125 51.171875 23.59375 60.859375 41.59375 66.203125 \nz\nM 25.5 34.984375 \nC 33.09375 34.984375 38.203125 28.375 38.203125 18.4375 \nC 38.203125 8.015625 33.09375 1.296875 25.40625 1.296875 \nC 16.90625 1.296875 12.296875 8.609375 12.296875 22.046875 \nC 12.296875 25.5625 12.703125 27.46875 13.796875 29.171875 \nC 16 32.578125 20.703125 34.984375 25.5 34.984375 \nz\n\" id=\"URW_Palladio_L_Roman-54\"/>\n       </defs>\n       <use transform=\"scale(0.996264)\" xlink:href=\"#URW_Palladio_L_Roman-54\"/>\n      </g>\n     </g>\n    </g>\n    <g id=\"xtick_3\">\n     <g id=\"line2d_3\">\n      <g>\n       <use style=\"stroke:#000000;stroke-width:0.8;\" x=\"223.337801\" xlink:href=\"#m961184314e\" y=\"224.64\"/>\n      </g>\n     </g>\n     <g id=\"text_3\">\n      <!-- $\\mathdefault{8}$ -->\n      <g transform=\"translate(219.601811 242.332356)scale(0.15 -0.15)\">\n       <defs>\n        <path d=\"M 16.796875 34.546875 \nC 12.703125 32.640625 11 31.546875 8.796875 29.4375 \nC 5 25.625 3 21.125 3 15.921875 \nC 3 5.59375 11.296875 -2 22.59375 -2 \nC 35.59375 -2 46.40625 8.203125 46.40625 20.625 \nC 46.40625 28.640625 42.703125 32.9375 31.296875 38.15625 \nC 40.40625 44.359375 43.59375 48.5625 43.59375 54.578125 \nC 43.59375 63.1875 36.5 69 25.90625 69 \nC 14 69 5.296875 61.390625 5.296875 50.875 \nC 5.296875 44.0625 8 40.25 16.796875 34.546875 \nz\nM 28.40625 29.53125 \nC 34.703125 26.734375 38.5 21.828125 38.5 16.421875 \nC 38.5 8 32.203125 1.390625 24.09375 1.390625 \nC 15.59375 1.390625 10.09375 7.40625 10.09375 16.71875 \nC 10.09375 24.03125 13 28.640625 20.40625 33.140625 \nz\nM 22.296875 42.359375 \nC 16 45.46875 12.796875 49.46875 12.796875 54.46875 \nC 12.796875 61.09375 17.59375 65.59375 24.703125 65.59375 \nC 32 65.59375 36.796875 60.78125 36.796875 53.46875 \nC 36.796875 47.765625 34.296875 43.859375 27.796875 39.65625 \nz\n\" id=\"URW_Palladio_L_Roman-56\"/>\n       </defs>\n       <use transform=\"scale(0.996264)\" xlink:href=\"#URW_Palladio_L_Roman-56\"/>\n      </g>\n     </g>\n    </g>\n    <g id=\"xtick_4\">\n     <g id=\"line2d_4\">\n      <g>\n       <use style=\"stroke:#000000;stroke-width:0.8;\" x=\"287.899785\" xlink:href=\"#m961184314e\" y=\"224.64\"/>\n      </g>\n     </g>\n     <g id=\"text_4\">\n      <!-- $\\mathdefault{10}$ -->\n      <g transform=\"translate(280.427805 242.332356)scale(0.15 -0.15)\">\n       <defs>\n        <path d=\"M 6.703125 55.796875 \nL 7.703125 55.796875 \nL 20.59375 61.59375 \nC 20.703125 61.703125 20.796875 61.703125 20.90625 61.703125 \nC 21.5 61.703125 21.703125 60.796875 21.703125 58.390625 \nL 21.703125 9.890625 \nC 21.703125 4.6875 20.59375 3.59375 15.203125 3.296875 \nL 9.59375 3 \nL 9.59375 0 \nC 25 0 25 0 26.09375 0 \nC 27.40625 0 29.59375 0 33 -0.109375 \nC 34.203125 0.09375 37.703125 0.09375 41.796875 0 \nL 41.796875 3 \nL 36.59375 3.296875 \nC 31.09375 3.578125 30.09375 4.671875 30.09375 9.8125 \nL 30.09375 68.484375 \nL 28.703125 69 \nC 22.203125 65.609375 15.09375 62.640625 6 59.484375 \nz\n\" id=\"URW_Palladio_L_Roman-49\"/>\n        <path d=\"M 26.296875 69 \nC 10.796875 69 2.90625 56.6875 2.90625 32.4375 \nC 2.90625 20.71875 5 10.609375 8.5 5.703125 \nC 12 0.796875 17.59375 -2 23.796875 -2 \nC 38.90625 -2 46.5 11 46.5 36.640625 \nC 46.5 58.578125 40 69 26.296875 69 \nz\nM 24.5 65.484375 \nC 34.203125 65.484375 38.09375 55.671875 38.09375 31.640625 \nC 38.09375 10.3125 34.296875 1.5 25.09375 1.5 \nC 15.40625 1.5 11.296875 11.609375 11.296875 36.046875 \nC 11.296875 57.1875 15 65.484375 24.5 65.484375 \nz\n\" id=\"URW_Palladio_L_Roman-48\"/>\n       </defs>\n       <use transform=\"scale(0.996264)\" xlink:href=\"#URW_Palladio_L_Roman-49\"/>\n       <use transform=\"translate(49.8132 0)scale(0.996264)\" xlink:href=\"#URW_Palladio_L_Roman-48\"/>\n      </g>\n     </g>\n    </g>\n    <g id=\"xtick_5\">\n     <g id=\"line2d_5\">\n      <g>\n       <use style=\"stroke:#000000;stroke-width:0.8;\" x=\"352.461768\" xlink:href=\"#m961184314e\" y=\"224.64\"/>\n      </g>\n     </g>\n     <g id=\"text_5\">\n      <!-- $\\mathdefault{12}$ -->\n      <g transform=\"translate(344.989788 242.332356)scale(0.15 -0.15)\">\n       <defs>\n        <path d=\"M 1.59375 2.59375 \nL 1.59375 0 \nC 20.296875 0 20.296875 0 23.90625 0 \nC 27.5 0.296875 27.5 0.296875 46.796875 0 \nC 46.59375 2.09375 46.59375 3.09375 46.59375 4.484375 \nC 46.59375 5.78125 46.59375 6.78125 46.796875 8.96875 \nC 35.296875 8.46875 30.703125 8.375 12.203125 7.96875 \nL 30.40625 27.203125 \nC 40.09375 37.46875 43.09375 42.953125 43.09375 50.4375 \nC 43.09375 61.890625 35.296875 69 22.59375 69 \nC 15.40625 69 10.5 66.984375 5.59375 61.984375 \nL 3.90625 48.4375 \nL 6.796875 48.4375 \nL 8.09375 53.03125 \nC 9.703125 58.796875 13.296875 61.296875 20 61.296875 \nC 28.59375 61.296875 34.09375 55.90625 34.09375 47.4375 \nC 34.09375 39.96875 29.90625 32.59375 18.59375 20.625 \nz\n\" id=\"URW_Palladio_L_Roman-50\"/>\n       </defs>\n       <use transform=\"scale(0.996264)\" xlink:href=\"#URW_Palladio_L_Roman-49\"/>\n       <use transform=\"translate(49.8132 0)scale(0.996264)\" xlink:href=\"#URW_Palladio_L_Roman-50\"/>\n      </g>\n     </g>\n    </g>\n   </g>\n   <g id=\"matplotlib.axis_2\">\n    <g id=\"ytick_1\">\n     <g id=\"line2d_6\">\n      <defs>\n       <path d=\"M 0 0 \nL -3.5 0 \n\" id=\"m6b63c1423a\" style=\"stroke:#000000;stroke-width:0.8;\"/>\n      </defs>\n      <g>\n       <use style=\"stroke:#000000;stroke-width:0.8;\" x=\"32.87995\" xlink:href=\"#m6b63c1423a\" y=\"214.643397\"/>\n      </g>\n     </g>\n     <g id=\"text_6\">\n      <!-- $\\mathdefault{0.0}$ -->\n      <g transform=\"translate(7.2 219.989575)scale(0.15 -0.15)\">\n       <defs>\n        <path d=\"M 12.40625 10.59375 \nC 9.40625 10.59375 6.703125 7.796875 6.703125 4.796875 \nC 6.703125 1.796875 9.40625 -1 12.296875 -1 \nC 15.5 -1 18.296875 1.6875 18.296875 4.796875 \nC 18.296875 7.796875 15.5 10.59375 12.40625 10.59375 \nz\n\" id=\"URW_Palladio_L_Roman-46\"/>\n       </defs>\n       <use transform=\"scale(0.996264)\" xlink:href=\"#URW_Palladio_L_Roman-48\"/>\n       <use transform=\"translate(49.8132 0)scale(0.996264)\" xlink:href=\"#URW_Palladio_L_Roman-46\"/>\n       <use transform=\"translate(74.719801 0)scale(0.996264)\" xlink:href=\"#URW_Palladio_L_Roman-48\"/>\n      </g>\n     </g>\n    </g>\n    <g id=\"ytick_2\">\n     <g id=\"line2d_7\">\n      <g>\n       <use style=\"stroke:#000000;stroke-width:0.8;\" x=\"32.87995\" xlink:href=\"#m6b63c1423a\" y=\"176.193058\"/>\n      </g>\n     </g>\n     <g id=\"text_7\">\n      <!-- $\\mathdefault{0.1}$ -->\n      <g transform=\"translate(7.2 181.539236)scale(0.15 -0.15)\">\n       <use transform=\"scale(0.996264)\" xlink:href=\"#URW_Palladio_L_Roman-48\"/>\n       <use transform=\"translate(49.8132 0)scale(0.996264)\" xlink:href=\"#URW_Palladio_L_Roman-46\"/>\n       <use transform=\"translate(74.719801 0)scale(0.996264)\" xlink:href=\"#URW_Palladio_L_Roman-49\"/>\n      </g>\n     </g>\n    </g>\n    <g id=\"ytick_3\">\n     <g id=\"line2d_8\">\n      <g>\n       <use style=\"stroke:#000000;stroke-width:0.8;\" x=\"32.87995\" xlink:href=\"#m6b63c1423a\" y=\"137.742719\"/>\n      </g>\n     </g>\n     <g id=\"text_8\">\n      <!-- $\\mathdefault{0.2}$ -->\n      <g transform=\"translate(7.2 143.088897)scale(0.15 -0.15)\">\n       <use transform=\"scale(0.996264)\" xlink:href=\"#URW_Palladio_L_Roman-48\"/>\n       <use transform=\"translate(49.8132 0)scale(0.996264)\" xlink:href=\"#URW_Palladio_L_Roman-46\"/>\n       <use transform=\"translate(74.719801 0)scale(0.996264)\" xlink:href=\"#URW_Palladio_L_Roman-50\"/>\n      </g>\n     </g>\n    </g>\n    <g id=\"ytick_4\">\n     <g id=\"line2d_9\">\n      <g>\n       <use style=\"stroke:#000000;stroke-width:0.8;\" x=\"32.87995\" xlink:href=\"#m6b63c1423a\" y=\"99.29238\"/>\n      </g>\n     </g>\n     <g id=\"text_9\">\n      <!-- $\\mathdefault{0.3}$ -->\n      <g transform=\"translate(7.2 104.638558)scale(0.15 -0.15)\">\n       <defs>\n        <path d=\"M 4.296875 49.9375 \nL 7.40625 49.9375 \nL 9.203125 55.515625 \nC 10.296875 58.90625 16.59375 62.296875 21.796875 62.296875 \nC 28.296875 62.296875 33.59375 57.015625 33.59375 50.734375 \nC 33.59375 43.265625 27.703125 37 20.59375 37 \nC 19.796875 37 18.703125 37.09375 17.40625 37.1875 \nL 15.90625 37.296875 \nL 14.703125 31.984375 \nL 15.40625 31.375 \nC 19.203125 33.09375 21.09375 33.59375 23.796875 33.59375 \nC 32.09375 33.59375 36.90625 28.25 36.90625 19.09375 \nC 36.90625 8.828125 30.796875 2.09375 21.5 2.09375 \nC 16.90625 2.09375 12.796875 3.609375 9.796875 6.421875 \nC 7.40625 8.640625 6.09375 10.953125 4.203125 16.375 \nL 1.5 15.375 \nC 3.59375 9.234375 4.40625 5.609375 5 0.59375 \nC 10.296875 -1.203125 14.703125 -2 18.40625 -2 \nC 26.40625 -2 35.59375 2.5 41.09375 9.234375 \nC 44.5 13.359375 46.203125 17.796875 46.203125 22.515625 \nC 46.203125 27.34375 44.203125 31.578125 40.59375 34.09375 \nC 38.09375 35.890625 35.796875 36.6875 30.796875 37.59375 \nC 38.796875 43.765625 41.796875 48.34375 41.796875 54.21875 \nC 41.796875 63.09375 34.40625 69 23.296875 69 \nC 16.5 69 12 67.09375 7.203125 62.296875 \nz\n\" id=\"URW_Palladio_L_Roman-51\"/>\n       </defs>\n       <use transform=\"scale(0.996264)\" xlink:href=\"#URW_Palladio_L_Roman-48\"/>\n       <use transform=\"translate(49.8132 0)scale(0.996264)\" xlink:href=\"#URW_Palladio_L_Roman-46\"/>\n       <use transform=\"translate(74.719801 0)scale(0.996264)\" xlink:href=\"#URW_Palladio_L_Roman-51\"/>\n      </g>\n     </g>\n    </g>\n    <g id=\"ytick_5\">\n     <g id=\"line2d_10\">\n      <g>\n       <use style=\"stroke:#000000;stroke-width:0.8;\" x=\"32.87995\" xlink:href=\"#m6b63c1423a\" y=\"60.842041\"/>\n      </g>\n     </g>\n     <g id=\"text_10\">\n      <!-- $\\mathdefault{0.4}$ -->\n      <g transform=\"translate(7.2 66.188219)scale(0.15 -0.15)\">\n       <use transform=\"scale(0.996264)\" xlink:href=\"#URW_Palladio_L_Roman-48\"/>\n       <use transform=\"translate(49.8132 0)scale(0.996264)\" xlink:href=\"#URW_Palladio_L_Roman-46\"/>\n       <use transform=\"translate(74.719801 0)scale(0.996264)\" xlink:href=\"#URW_Palladio_L_Roman-52\"/>\n      </g>\n     </g>\n    </g>\n    <g id=\"ytick_6\">\n     <g id=\"line2d_11\">\n      <g>\n       <use style=\"stroke:#000000;stroke-width:0.8;\" x=\"32.87995\" xlink:href=\"#m6b63c1423a\" y=\"22.391702\"/>\n      </g>\n     </g>\n     <g id=\"text_11\">\n      <!-- $\\mathdefault{0.5}$ -->\n      <g transform=\"translate(7.2 27.73788)scale(0.15 -0.15)\">\n       <defs>\n        <path d=\"M 12.703125 60.796875 \nC 25.59375 60.390625 31.203125 60.296875 43.203125 60.296875 \nL 43.703125 60.796875 \nC 43.5 62.59375 43.5 63.390625 43.5 64.6875 \nC 43.5 66.09375 43.5 66.890625 43.703125 68.6875 \nL 43.203125 69.1875 \nC 35.703125 68.796875 31.203125 68.6875 25.796875 68.6875 \nC 20.296875 68.6875 15.90625 68.796875 8.40625 69.1875 \nL 7.90625 68.6875 \nC 8 62.59375 8.09375 58.1875 8.09375 55 \nC 8.09375 46.5 7.796875 36.875 7.5 32.4375 \nL 9.5 31.84375 \nC 14.203125 36.578125 16.90625 38 21.796875 38 \nC 31.40625 38 37.40625 31.125 37.40625 20.234375 \nC 37.40625 9.046875 31 2.5 20.09375 2.5 \nC 14.703125 2.5 9.703125 4.3125 8.296875 6.921875 \nL 3.703125 15.203125 \nL 1.296875 13.78125 \nC 3.59375 8.03125 4.796875 4.8125 6.203125 0.390625 \nC 9 -1.109375 13 -2 17.296875 -2 \nC 24 -2 31.09375 0.890625 36.59375 5.71875 \nC 42.703125 11.171875 45.90625 18.015625 45.90625 25.484375 \nC 45.90625 36.875 37.796875 44.890625 26.40625 44.890625 \nC 21.59375 44.890625 18 43.59375 11.796875 39.890625 \nz\n\" id=\"URW_Palladio_L_Roman-53\"/>\n       </defs>\n       <use transform=\"scale(0.996264)\" xlink:href=\"#URW_Palladio_L_Roman-48\"/>\n       <use transform=\"translate(49.8132 0)scale(0.996264)\" xlink:href=\"#URW_Palladio_L_Roman-46\"/>\n       <use transform=\"translate(74.719801 0)scale(0.996264)\" xlink:href=\"#URW_Palladio_L_Roman-53\"/>\n      </g>\n     </g>\n    </g>\n   </g>\n   <g id=\"line2d_12\">\n    <path clip-path=\"url(#p9c5f5fb7a7)\" d=\"M 48.098132 214.641736 \nL 55.344885 213.514774 \nL 62.591638 210.988525 \nL 69.838392 207.413989 \nL 77.085145 203.11316 \nL 84.331898 198.35835 \nL 91.578651 193.366687 \nL 98.825405 188.321091 \nL 106.072158 183.355343 \nL 113.318911 178.543724 \nL 120.565664 173.946175 \nL 127.812418 169.616417 \nL 135.059171 165.580989 \nL 142.305924 161.834786 \nL 149.552677 158.374588 \nL 156.799431 155.201031 \nL 164.046184 152.310749 \nL 171.292937 149.633003 \nL 178.53969 147.177959 \nL 185.786444 144.925978 \nL 193.033197 142.84534 \nL 200.27995 140.971205 \nL 207.526703 139.228996 \nL 214.773457 137.773535 \nL 222.02021 136.415603 \nL 229.266963 135.364759 \nL 236.513716 134.928699 \nL 243.76047 135.078106 \nL 251.007223 137.460564 \nL 258.253976 139.737131 \nL 265.500729 142.330687 \nL 272.747483 144.615113 \nL 279.994236 145.523205 \nL 287.240989 146.349591 \nL 294.487742 145.30953 \nL 301.734496 143.766038 \nL 308.981249 141.867746 \nL 316.228002 139.829575 \nL 323.474755 137.960302 \nL 330.721509 136.251439 \nL 337.968262 134.000733 \nL 345.215015 131.15879 \nL 352.461768 128.254156 \n\" style=\"fill:none;stroke:#1f77b4;stroke-linecap:square;stroke-width:1.5;\"/>\n   </g>\n   <g id=\"line2d_13\">\n    <path clip-path=\"url(#p9c5f5fb7a7)\" d=\"M 48.098132 214.756364 \nL 55.344885 212.462847 \nL 62.591638 207.295915 \nL 69.838392 199.923004 \nL 77.085145 190.954902 \nL 84.331898 180.927103 \nL 91.578651 170.30492 \nL 98.825405 159.489421 \nL 106.072158 148.747103 \nL 113.318911 138.227503 \nL 120.565664 128.062862 \nL 127.812418 118.376933 \nL 135.059171 109.237757 \nL 142.305924 100.646446 \nL 149.552677 92.610307 \nL 156.799431 85.147737 \nL 164.046184 78.268189 \nL 171.292937 71.818807 \nL 178.53969 65.837813 \nL 185.786444 60.290772 \nL 193.033197 55.111285 \nL 200.27995 50.39895 \nL 207.526703 45.976723 \nL 214.773457 42.25032 \nL 222.02021 38.746364 \nL 229.266963 36.016198 \nL 236.513716 34.878415 \nL 243.76047 35.268578 \nL 251.007223 41.445107 \nL 258.253976 47.270762 \nL 265.500729 53.821749 \nL 272.747483 59.520302 \nL 279.994236 61.767704 \nL 287.240989 63.804329 \nL 294.487742 61.23978 \nL 301.734496 57.409869 \nL 308.981249 52.658887 \nL 316.228002 47.505806 \nL 323.474755 42.730167 \nL 330.721509 38.320938 \nL 337.968262 32.447456 \nL 345.215015 24.917999 \nL 352.461768 17.083636 \n\" style=\"fill:none;stroke:#ff7f0e;stroke-linecap:square;stroke-width:1.5;\"/>\n   </g>\n   <g id=\"patch_3\">\n    <path d=\"M 32.87995 224.64 \nL 32.87995 7.2 \n\" style=\"fill:none;stroke:#000000;stroke-linecap:square;stroke-linejoin:miter;stroke-width:0.8;\"/>\n   </g>\n   <g id=\"patch_4\">\n    <path d=\"M 367.67995 224.64 \nL 367.67995 7.2 \n\" style=\"fill:none;stroke:#000000;stroke-linecap:square;stroke-linejoin:miter;stroke-width:0.8;\"/>\n   </g>\n   <g id=\"patch_5\">\n    <path d=\"M 32.87995 224.64 \nL 367.67995 224.64 \n\" style=\"fill:none;stroke:#000000;stroke-linecap:square;stroke-linejoin:miter;stroke-width:0.8;\"/>\n   </g>\n   <g id=\"patch_6\">\n    <path d=\"M 32.87995 7.2 \nL 367.67995 7.2 \n\" style=\"fill:none;stroke:#000000;stroke-linecap:square;stroke-linejoin:miter;stroke-width:0.8;\"/>\n   </g>\n  </g>\n </g>\n <defs>\n  <clipPath id=\"p9c5f5fb7a7\">\n   <rect height=\"217.44\" width=\"334.8\" x=\"32.87995\" y=\"7.2\"/>\n  </clipPath>\n </defs>\n</svg>\n",
      "image/png": "[encoded data removed]"
     },
     "metadata": {
      "needs_background": "light"
     }
    }
   ],
   "source": [
    "plt.plot(np.linspace(1, 12)[7:], frac[7:])\n",
    "plt.plot(np.linspace(1, 12)[7:], frac_[7:])"
   ]
  },
  {
   "cell_type": "code",
   "execution_count": 208,
   "metadata": {},
   "outputs": [],
   "source": [
    "np.savetxt(\"case_b_hc\", [frac, frac_up, frac_low])"
   ]
  },
  {
   "cell_type": "code",
   "execution_count": null,
   "metadata": {},
   "outputs": [],
   "source": []
  }
 ]
}