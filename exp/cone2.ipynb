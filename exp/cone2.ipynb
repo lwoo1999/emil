{
 "metadata": {
  "language_info": {
   "codemirror_mode": {
    "name": "ipython",
    "version": 3
   },
   "file_extension": ".py",
   "mimetype": "text/x-python",
   "name": "python",
   "nbconvert_exporter": "python",
   "pygments_lexer": "ipython3",
   "version": "3.9.1"
  },
  "orig_nbformat": 2,
  "kernelspec": {
   "name": "python391jvsc74a57bd00dcf937d572fd001e2fa25734a47fddcc3882835fc4422cd9a0140bcc327526e",
   "display_name": "Python 3.9.1 64-bit ('base': conda)"
  }
 },
 "nbformat": 4,
 "nbformat_minor": 2,
 "cells": [
  {
   "cell_type": "code",
   "execution_count": 71,
   "metadata": {},
   "outputs": [],
   "source": [
    "%run cone1.py"
   ]
  },
  {
   "cell_type": "code",
   "execution_count": 2,
   "metadata": {},
   "outputs": [],
   "source": [
    "plt.rcParams.update({\n",
    "    \"text.usetex\": True,\n",
    "    \"font.family\": \"serif\",\n",
    "    \"font.serif\": [\"Palatino\"],\n",
    "    \"font.size\": 15\n",
    "})"
   ]
  },
  {
   "cell_type": "code",
   "execution_count": 3,
   "metadata": {},
   "outputs": [],
   "source": [
    "from matplotlib import cm\n",
    "\n",
    "color = cm.get_cmap(\"RdPu\")\n",
    "oiii_corrs = np.loadtxt(\"corr\")\n",
    "oiii_corrs_x = np.loadtxt(\"corr_x_\")\n",
    "corr_min = np.min(oiii_corrs)"
   ]
  },
  {
   "cell_type": "code",
   "execution_count": 176,
   "metadata": {},
   "outputs": [],
   "source": [
    "cors_std = np.loadtxt(\"../src/cors_std\")"
   ]
  },
  {
   "cell_type": "code",
   "execution_count": 177,
   "metadata": {},
   "outputs": [],
   "source": [
    "cors_x = np.loadtxt(\"../src/cors_x\")[0]\n",
    "cors_s = np.loadtxt(\"../src/cors_s\")[0]\n",
    "\n",
    "cors_x_err = np.loadtxt(\"../src/cors_x\")[1]\n",
    "cors_s_err = np.loadtxt(\"../src/cors_s\")[1]"
   ]
  },
  {
   "cell_type": "code",
   "execution_count": 181,
   "metadata": {},
   "outputs": [
    {
     "output_type": "execute_result",
     "data": {
      "text/plain": [
       "(-0.19618814710905794, -0.11526146837055426, -0.1321547374575117)"
      ]
     },
     "metadata": {},
     "execution_count": 181
    }
   ],
   "source": [
    "corr_min, np.min(cors_x), np.min(cors_s)"
   ]
  },
  {
   "cell_type": "code",
   "execution_count": 212,
   "metadata": {},
   "outputs": [
    {
     "output_type": "execute_result",
     "data": {
      "text/plain": [
       "-0.13096929376856895"
      ]
     },
     "metadata": {},
     "execution_count": 212
    }
   ],
   "source": [
    "tmp = []\n",
    "\n",
    "for i in range(100):\n",
    "    data = gen_data0(0.5, 0.1498)\n",
    "\n",
    "\n",
    "    s_b = np.sqrt(_b_std**2 - np.std(np.log10(1-angle))**2)\n",
    "    s_a = np.sqrt(_a_std**2 - np.std(np.log10(angle))**2 - s_b**2)\n",
    "\n",
    "    a, b, angle = data\n",
    "    c = np.corrcoef(s_a * a + s_b * b + np.log10(angle), s_b * b + np.log10(1-angle))[0, 1]\n",
    "\n",
    "    # plt.scatter(s_a * a + s_b * b + np.log10(angle), s_b * b + np.log10(1-angle))\n",
    "\n",
    "    # if np.abs(c - corr_min) < 1e-4:\n",
    "    #     break\n",
    "    tmp.append(c)\n",
    "\n",
    "np.mean(tmp)"
   ]
  },
  {
   "cell_type": "code",
   "execution_count": 146,
   "metadata": {},
   "outputs": [
    {
     "output_type": "execute_result",
     "data": {
      "text/plain": [
       "(0.23174044466958268, 0.19672256571666924)"
      ]
     },
     "metadata": {},
     "execution_count": 146
    }
   ],
   "source": [
    "np.std(s_a * a + s_b * b + np.log10(angle)), np.std(s_b * b + np.log10(1-angle))"
   ]
  },
  {
   "cell_type": "code",
   "execution_count": 124,
   "metadata": {},
   "outputs": [
    {
     "output_type": "execute_result",
     "data": {
      "text/plain": [
       "(0.23511969832958668, 0.1988515228185253)"
      ]
     },
     "metadata": {},
     "execution_count": 124
    }
   ],
   "source": [
    "_a_std, _b_std"
   ]
  },
  {
   "cell_type": "code",
   "execution_count": 125,
   "metadata": {},
   "outputs": [
    {
     "output_type": "execute_result",
     "data": {
      "text/plain": [
       "(0.1609952099780022, 0.12391591517244606)"
      ]
     },
     "metadata": {},
     "execution_count": 125
    }
   ],
   "source": [
    "np.std(np.log10(1-angle)), np.std(np.log10(angle))"
   ]
  },
  {
   "cell_type": "code",
   "execution_count": 220,
   "metadata": {},
   "outputs": [],
   "source": [
    "tt = np.min(cors_s)\n",
    "\n",
    "while True:\n",
    "    data = gen_data0(0.5, 0.1532)\n",
    "\n",
    "\n",
    "    s_b = np.sqrt(_b_std**2 - np.std(np.log10(1-angle))**2)\n",
    "    s_a = np.sqrt(_a_std**2 - np.std(np.log10(angle))**2 - s_b**2)\n",
    "\n",
    "    a, b, angle = data\n",
    "    c = np.corrcoef(s_a * a + s_b * b + np.log10(angle), s_b * b + np.log10(1-angle))[0, 1]\n",
    "\n",
    "\n",
    "    if np.abs(c - corr_min) < 1e-4:\n",
    "        break"
   ]
  },
  {
   "cell_type": "code",
   "execution_count": 151,
   "metadata": {},
   "outputs": [
    {
     "output_type": "execute_result",
     "data": {
      "text/plain": [
       "(0.2926277843046992, 0.7293064352468551)"
      ]
     },
     "metadata": {},
     "execution_count": 151
    }
   ],
   "source": [
    "np.std(np.log10(angle)) ** 2 / np.std(s_a * a + s_b * b + np.log10(angle)) ** 2, np.std(np.log10(1-angle)) ** 2 / np.std(s_b * b + np.log10(1-angle)) ** 2"
   ]
  },
  {
   "cell_type": "code",
   "execution_count": 223,
   "metadata": {},
   "outputs": [
    {
     "output_type": "execute_result",
     "data": {
      "text/plain": [
       "(0.16789197242643586, 0.25027686423889006)"
      ]
     },
     "metadata": {},
     "execution_count": 223
    }
   ],
   "source": [
    "s_b ** 2 / np.std(s_a * a + s_b * b + np.log10(angle)) ** 2, s_b ** 2 / np.std(s_b * b + np.log10(1-angle)) ** 2"
   ]
  },
  {
   "cell_type": "code",
   "execution_count": 221,
   "metadata": {},
   "outputs": [
    {
     "output_type": "execute_result",
     "data": {
      "text/plain": [
       "0.5497543145877394"
      ]
     },
     "metadata": {},
     "execution_count": 221
    }
   ],
   "source": [
    "s_a ** 2 / np.std(s_a * a + s_b * b + np.log10(angle)) ** 2"
   ]
  },
  {
   "cell_type": "code",
   "execution_count": 222,
   "metadata": {},
   "outputs": [
    {
     "output_type": "execute_result",
     "data": {
      "text/plain": [
       "0.27392430691079994"
      ]
     },
     "metadata": {},
     "execution_count": 222
    }
   ],
   "source": [
    "1-Out[221] - Out[150][0]"
   ]
  },
  {
   "cell_type": "code",
   "execution_count": 214,
   "metadata": {},
   "outputs": [],
   "source": [
    "@np.vectorize\n",
    "def frac2corrfrac(polar_frac):\n",
    "    a_ = s_a * a + s_b * b + np.log10(angle)\n",
    "    b_torus = s_b * b + np.log10(1 - polar_frac) + np.log10(1 - angle)\n",
    "    b_polar = s_b * b + np.log10(polar_frac) + np.log10(angle)\n",
    "    b_ = np.log10(10 ** b_torus + 10 ** b_polar)\n",
    "    frac = 10**np.mean(b_polar - b_)\n",
    "    return [np.corrcoef(a_, b_)[0, 1], frac]"
   ]
  },
  {
   "cell_type": "code",
   "execution_count": 215,
   "metadata": {},
   "outputs": [
    {
     "output_type": "stream",
     "name": "stderr",
     "text": [
      "<ipython-input-214-c40a50a25993>:5: RuntimeWarning: divide by zero encountered in log10\n  b_polar = s_b * b + np.log10(polar_frac) + np.log10(angle)\n<ipython-input-214-c40a50a25993>:4: RuntimeWarning: divide by zero encountered in log10\n  b_torus = s_b * b + np.log10(1 - polar_frac) + np.log10(1 - angle)\n"
     ]
    }
   ],
   "source": [
    "from scipy.interpolate import CubicSpline\n",
    "\n",
    "f = np.linspace(0,1)\n",
    "res = np.array([frac2corrfrac(f) for f in f])\n",
    "frac = res[:,1]\n",
    "corr = res[:,0]\n",
    "frac2corr0 = CubicSpline(frac, corr)"
   ]
  },
  {
   "cell_type": "code",
   "execution_count": 171,
   "metadata": {},
   "outputs": [
    {
     "output_type": "execute_result",
     "data": {
      "text/plain": [
       "[<matplotlib.lines.Line2D at 0x1312e5df0>]"
      ]
     },
     "metadata": {},
     "execution_count": 171
    },
    {
     "output_type": "display_data",
     "data": {
      "text/plain": "<Figure size 432x288 with 1 Axes>",
      "image/svg+xml": "<?xml version=\"1.0\" encoding=\"utf-8\" standalone=\"no\"?>\n<!DOCTYPE svg PUBLIC \"-//W3C//DTD SVG 1.1//EN\"\n  \"http://www.w3.org/Graphics/SVG/1.1/DTD/svg11.dtd\">\n<!-- Created with matplotlib (https://matplotlib.org/) -->\n<svg height=\"253.746473pt\" version=\"1.1\" viewBox=\"0 0 374.87995 253.746473\" width=\"374.87995pt\" xmlns=\"http://www.w3.org/2000/svg\" xmlns:xlink=\"http://www.w3.org/1999/xlink\">\n <metadata>\n  <rdf:RDF xmlns:cc=\"http://creativecommons.org/ns#\" xmlns:dc=\"http://purl.org/dc/elements/1.1/\" xmlns:rdf=\"http://www.w3.org/1999/02/22-rdf-syntax-ns#\">\n   <cc:Work>\n    <dc:type rdf:resource=\"http://purl.org/dc/dcmitype/StillImage\"/>\n    <dc:date>2021-11-22T18:44:20.865245</dc:date>\n    <dc:format>image/svg+xml</dc:format>\n    <dc:creator>\n     <cc:Agent>\n      <dc:title>Matplotlib v3.3.4, https://matplotlib.org/</dc:title>\n     </cc:Agent>\n    </dc:creator>\n   </cc:Work>\n  </rdf:RDF>\n </metadata>\n <defs>\n  <style type=\"text/css\">*{stroke-linecap:butt;stroke-linejoin:round;}</style>\n </defs>\n <g id=\"figure_1\">\n  <g id=\"patch_1\">\n   <path d=\"M 0 253.746473 \nL 374.87995 253.746473 \nL 374.87995 0 \nL 0 0 \nz\n\" style=\"fill:none;\"/>\n  </g>\n  <g id=\"axes_1\">\n   <g id=\"patch_2\">\n    <path d=\"M 32.87995 224.64 \nL 367.67995 224.64 \nL 367.67995 7.2 \nL 32.87995 7.2 \nz\n\" style=\"fill:#ffffff;\"/>\n   </g>\n   <g id=\"matplotlib.axis_1\">\n    <g id=\"xtick_1\">\n     <g id=\"line2d_1\">\n      <defs>\n       <path d=\"M 0 0 \nL 0 3.5 \n\" id=\"mb76a54264c\" style=\"stroke:#000000;stroke-width:0.8;\"/>\n      </defs>\n      <g>\n       <use style=\"stroke:#000000;stroke-width:0.8;\" x=\"46.762613\" xlink:href=\"#mb76a54264c\" y=\"224.64\"/>\n      </g>\n     </g>\n     <g id=\"text_1\">\n      <!-- $\\mathdefault{−0.2}$ -->\n      <g transform=\"translate(31.277006 242.332356)scale(0.15 -0.15)\">\n       <defs>\n        <path d=\"M 65.90625 23 \nC 67.59375 23 69.40625 23 69.40625 25 \nC 69.40625 27 67.59375 27 65.90625 27 \nL 11.796875 27 \nC 10.09375 27 8.296875 27 8.296875 25 \nC 8.296875 23 10.09375 23 11.796875 23 \nz\n\" id=\"CMSY10-0\"/>\n        <path d=\"M 26.296875 69 \nC 10.796875 69 2.90625 56.6875 2.90625 32.4375 \nC 2.90625 20.71875 5 10.609375 8.5 5.703125 \nC 12 0.796875 17.59375 -2 23.796875 -2 \nC 38.90625 -2 46.5 11 46.5 36.640625 \nC 46.5 58.578125 40 69 26.296875 69 \nz\nM 24.5 65.484375 \nC 34.203125 65.484375 38.09375 55.671875 38.09375 31.640625 \nC 38.09375 10.3125 34.296875 1.5 25.09375 1.5 \nC 15.40625 1.5 11.296875 11.609375 11.296875 36.046875 \nC 11.296875 57.1875 15 65.484375 24.5 65.484375 \nz\n\" id=\"URW_Palladio_L_Roman-48\"/>\n        <path d=\"M 12.40625 10.59375 \nC 9.40625 10.59375 6.703125 7.796875 6.703125 4.796875 \nC 6.703125 1.796875 9.40625 -1 12.296875 -1 \nC 15.5 -1 18.296875 1.6875 18.296875 4.796875 \nC 18.296875 7.796875 15.5 10.59375 12.40625 10.59375 \nz\n\" id=\"URW_Palladio_L_Roman-46\"/>\n        <path d=\"M 1.59375 2.59375 \nL 1.59375 0 \nC 20.296875 0 20.296875 0 23.90625 0 \nC 27.5 0.296875 27.5 0.296875 46.796875 0 \nC 46.59375 2.09375 46.59375 3.09375 46.59375 4.484375 \nC 46.59375 5.78125 46.59375 6.78125 46.796875 8.96875 \nC 35.296875 8.46875 30.703125 8.375 12.203125 7.96875 \nL 30.40625 27.203125 \nC 40.09375 37.46875 43.09375 42.953125 43.09375 50.4375 \nC 43.09375 61.890625 35.296875 69 22.59375 69 \nC 15.40625 69 10.5 66.984375 5.59375 61.984375 \nL 3.90625 48.4375 \nL 6.796875 48.4375 \nL 8.09375 53.03125 \nC 9.703125 58.796875 13.296875 61.296875 20 61.296875 \nC 28.59375 61.296875 34.09375 55.90625 34.09375 47.4375 \nC 34.09375 39.96875 29.90625 32.59375 18.59375 20.625 \nz\n\" id=\"URW_Palladio_L_Roman-50\"/>\n       </defs>\n       <use transform=\"scale(1.038107)\" xlink:href=\"#CMSY10-0\"/>\n       <use transform=\"translate(81.941696 0)scale(0.996264)\" xlink:href=\"#URW_Palladio_L_Roman-48\"/>\n       <use transform=\"translate(131.754897 0)scale(0.996264)\" xlink:href=\"#URW_Palladio_L_Roman-46\"/>\n       <use transform=\"translate(156.661497 0)scale(0.996264)\" xlink:href=\"#URW_Palladio_L_Roman-50\"/>\n      </g>\n     </g>\n    </g>\n    <g id=\"xtick_2\">\n     <g id=\"line2d_2\">\n      <g>\n       <use style=\"stroke:#000000;stroke-width:0.8;\" x=\"115.237825\" xlink:href=\"#mb76a54264c\" y=\"224.64\"/>\n      </g>\n     </g>\n     <g id=\"text_2\">\n      <!-- $\\mathdefault{0.0}$ -->\n      <g transform=\"translate(105.89785 242.332356)scale(0.15 -0.15)\">\n       <use transform=\"scale(0.996264)\" xlink:href=\"#URW_Palladio_L_Roman-48\"/>\n       <use transform=\"translate(49.8132 0)scale(0.996264)\" xlink:href=\"#URW_Palladio_L_Roman-46\"/>\n       <use transform=\"translate(74.719801 0)scale(0.996264)\" xlink:href=\"#URW_Palladio_L_Roman-48\"/>\n      </g>\n     </g>\n    </g>\n    <g id=\"xtick_3\">\n     <g id=\"line2d_3\">\n      <g>\n       <use style=\"stroke:#000000;stroke-width:0.8;\" x=\"183.713037\" xlink:href=\"#mb76a54264c\" y=\"224.64\"/>\n      </g>\n     </g>\n     <g id=\"text_3\">\n      <!-- $\\mathdefault{0.2}$ -->\n      <g transform=\"translate(174.373062 242.332356)scale(0.15 -0.15)\">\n       <use transform=\"scale(0.996264)\" xlink:href=\"#URW_Palladio_L_Roman-48\"/>\n       <use transform=\"translate(49.8132 0)scale(0.996264)\" xlink:href=\"#URW_Palladio_L_Roman-46\"/>\n       <use transform=\"translate(74.719801 0)scale(0.996264)\" xlink:href=\"#URW_Palladio_L_Roman-50\"/>\n      </g>\n     </g>\n    </g>\n    <g id=\"xtick_4\">\n     <g id=\"line2d_4\">\n      <g>\n       <use style=\"stroke:#000000;stroke-width:0.8;\" x=\"252.188249\" xlink:href=\"#mb76a54264c\" y=\"224.64\"/>\n      </g>\n     </g>\n     <g id=\"text_4\">\n      <!-- $\\mathdefault{0.4}$ -->\n      <g transform=\"translate(242.848274 242.332356)scale(0.15 -0.15)\">\n       <defs>\n        <path d=\"M 28 18 \nL 28 10.6875 \nC 28 4.84375 26.90625 3.484375 22 3.28125 \nL 15.796875 3 \nL 15.796875 0 \nC 29.09375 0 29.09375 0 31.5 0 \nC 33.90625 0.296875 33.90625 0.296875 47.203125 0 \nL 47.203125 3 \nL 42.40625 3.28125 \nC 37.5 3.578125 36.40625 4.84375 36.40625 10.6875 \nL 36.40625 18 \nC 42.296875 18 44.40625 17.890625 47.203125 17.609375 \nL 47.203125 24.6875 \nC 42.5 24.296875 40.59375 24.296875 39.09375 24.390625 \nL 38.796875 24.390625 \nL 36.40625 24.390625 \nL 36.40625 38.203125 \nC 36.40625 55.875 36.59375 64.40625 37.09375 68.484375 \nL 35.90625 69 \nL 28.5 66.296875 \nL 0.203125 20.296875 \nL 1.296875 18 \nz\nM 28 24.390625 \nL 6.5 24.390625 \nL 28 59.34375 \nz\n\" id=\"URW_Palladio_L_Roman-52\"/>\n       </defs>\n       <use transform=\"scale(0.996264)\" xlink:href=\"#URW_Palladio_L_Roman-48\"/>\n       <use transform=\"translate(49.8132 0)scale(0.996264)\" xlink:href=\"#URW_Palladio_L_Roman-46\"/>\n       <use transform=\"translate(74.719801 0)scale(0.996264)\" xlink:href=\"#URW_Palladio_L_Roman-52\"/>\n      </g>\n     </g>\n    </g>\n    <g id=\"xtick_5\">\n     <g id=\"line2d_5\">\n      <g>\n       <use style=\"stroke:#000000;stroke-width:0.8;\" x=\"320.663461\" xlink:href=\"#mb76a54264c\" y=\"224.64\"/>\n      </g>\n     </g>\n     <g id=\"text_5\">\n      <!-- $\\mathdefault{0.6}$ -->\n      <g transform=\"translate(311.323486 242.332356)scale(0.15 -0.15)\">\n       <defs>\n        <path d=\"M 41.59375 66.984375 \nL 37.90625 68.6875 \nC 28.296875 65.515625 24.203125 63.53125 19.09375 59.1875 \nC 8.796875 50.578125 3.203125 38.484375 3.203125 24.765625 \nC 3.203125 8.21875 11.203125 -2 24.09375 -2 \nC 37.09375 -2 46.796875 8.3125 46.796875 21.953125 \nC 46.796875 33.484375 39.90625 41 29.296875 41 \nC 24.296875 41 21.296875 39.6875 15.40625 34.984375 \nC 14.296875 34.09375 14.203125 33.984375 13.09375 33.1875 \nC 15.203125 51.171875 23.59375 60.859375 41.59375 66.203125 \nz\nM 25.5 34.984375 \nC 33.09375 34.984375 38.203125 28.375 38.203125 18.4375 \nC 38.203125 8.015625 33.09375 1.296875 25.40625 1.296875 \nC 16.90625 1.296875 12.296875 8.609375 12.296875 22.046875 \nC 12.296875 25.5625 12.703125 27.46875 13.796875 29.171875 \nC 16 32.578125 20.703125 34.984375 25.5 34.984375 \nz\n\" id=\"URW_Palladio_L_Roman-54\"/>\n       </defs>\n       <use transform=\"scale(0.996264)\" xlink:href=\"#URW_Palladio_L_Roman-48\"/>\n       <use transform=\"translate(49.8132 0)scale(0.996264)\" xlink:href=\"#URW_Palladio_L_Roman-46\"/>\n       <use transform=\"translate(74.719801 0)scale(0.996264)\" xlink:href=\"#URW_Palladio_L_Roman-54\"/>\n      </g>\n     </g>\n    </g>\n   </g>\n   <g id=\"matplotlib.axis_2\">\n    <g id=\"ytick_1\">\n     <g id=\"line2d_6\">\n      <defs>\n       <path d=\"M 0 0 \nL -3.5 0 \n\" id=\"m6b51616209\" style=\"stroke:#000000;stroke-width:0.8;\"/>\n      </defs>\n      <g>\n       <use style=\"stroke:#000000;stroke-width:0.8;\" x=\"32.87995\" xlink:href=\"#m6b51616209\" y=\"214.756364\"/>\n      </g>\n     </g>\n     <g id=\"text_6\">\n      <!-- $\\mathdefault{0.0}$ -->\n      <g transform=\"translate(7.2 220.102542)scale(0.15 -0.15)\">\n       <use transform=\"scale(0.996264)\" xlink:href=\"#URW_Palladio_L_Roman-48\"/>\n       <use transform=\"translate(49.8132 0)scale(0.996264)\" xlink:href=\"#URW_Palladio_L_Roman-46\"/>\n       <use transform=\"translate(74.719801 0)scale(0.996264)\" xlink:href=\"#URW_Palladio_L_Roman-48\"/>\n      </g>\n     </g>\n    </g>\n    <g id=\"ytick_2\">\n     <g id=\"line2d_7\">\n      <g>\n       <use style=\"stroke:#000000;stroke-width:0.8;\" x=\"32.87995\" xlink:href=\"#m6b51616209\" y=\"175.221818\"/>\n      </g>\n     </g>\n     <g id=\"text_7\">\n      <!-- $\\mathdefault{0.2}$ -->\n      <g transform=\"translate(7.2 180.567996)scale(0.15 -0.15)\">\n       <use transform=\"scale(0.996264)\" xlink:href=\"#URW_Palladio_L_Roman-48\"/>\n       <use transform=\"translate(49.8132 0)scale(0.996264)\" xlink:href=\"#URW_Palladio_L_Roman-46\"/>\n       <use transform=\"translate(74.719801 0)scale(0.996264)\" xlink:href=\"#URW_Palladio_L_Roman-50\"/>\n      </g>\n     </g>\n    </g>\n    <g id=\"ytick_3\">\n     <g id=\"line2d_8\">\n      <g>\n       <use style=\"stroke:#000000;stroke-width:0.8;\" x=\"32.87995\" xlink:href=\"#m6b51616209\" y=\"135.687273\"/>\n      </g>\n     </g>\n     <g id=\"text_8\">\n      <!-- $\\mathdefault{0.4}$ -->\n      <g transform=\"translate(7.2 141.033451)scale(0.15 -0.15)\">\n       <use transform=\"scale(0.996264)\" xlink:href=\"#URW_Palladio_L_Roman-48\"/>\n       <use transform=\"translate(49.8132 0)scale(0.996264)\" xlink:href=\"#URW_Palladio_L_Roman-46\"/>\n       <use transform=\"translate(74.719801 0)scale(0.996264)\" xlink:href=\"#URW_Palladio_L_Roman-52\"/>\n      </g>\n     </g>\n    </g>\n    <g id=\"ytick_4\">\n     <g id=\"line2d_9\">\n      <g>\n       <use style=\"stroke:#000000;stroke-width:0.8;\" x=\"32.87995\" xlink:href=\"#m6b51616209\" y=\"96.152727\"/>\n      </g>\n     </g>\n     <g id=\"text_9\">\n      <!-- $\\mathdefault{0.6}$ -->\n      <g transform=\"translate(7.2 101.498905)scale(0.15 -0.15)\">\n       <use transform=\"scale(0.996264)\" xlink:href=\"#URW_Palladio_L_Roman-48\"/>\n       <use transform=\"translate(49.8132 0)scale(0.996264)\" xlink:href=\"#URW_Palladio_L_Roman-46\"/>\n       <use transform=\"translate(74.719801 0)scale(0.996264)\" xlink:href=\"#URW_Palladio_L_Roman-54\"/>\n      </g>\n     </g>\n    </g>\n    <g id=\"ytick_5\">\n     <g id=\"line2d_10\">\n      <g>\n       <use style=\"stroke:#000000;stroke-width:0.8;\" x=\"32.87995\" xlink:href=\"#m6b51616209\" y=\"56.618182\"/>\n      </g>\n     </g>\n     <g id=\"text_10\">\n      <!-- $\\mathdefault{0.8}$ -->\n      <g transform=\"translate(7.2 61.96436)scale(0.15 -0.15)\">\n       <defs>\n        <path d=\"M 16.796875 34.546875 \nC 12.703125 32.640625 11 31.546875 8.796875 29.4375 \nC 5 25.625 3 21.125 3 15.921875 \nC 3 5.59375 11.296875 -2 22.59375 -2 \nC 35.59375 -2 46.40625 8.203125 46.40625 20.625 \nC 46.40625 28.640625 42.703125 32.9375 31.296875 38.15625 \nC 40.40625 44.359375 43.59375 48.5625 43.59375 54.578125 \nC 43.59375 63.1875 36.5 69 25.90625 69 \nC 14 69 5.296875 61.390625 5.296875 50.875 \nC 5.296875 44.0625 8 40.25 16.796875 34.546875 \nz\nM 28.40625 29.53125 \nC 34.703125 26.734375 38.5 21.828125 38.5 16.421875 \nC 38.5 8 32.203125 1.390625 24.09375 1.390625 \nC 15.59375 1.390625 10.09375 7.40625 10.09375 16.71875 \nC 10.09375 24.03125 13 28.640625 20.40625 33.140625 \nz\nM 22.296875 42.359375 \nC 16 45.46875 12.796875 49.46875 12.796875 54.46875 \nC 12.796875 61.09375 17.59375 65.59375 24.703125 65.59375 \nC 32 65.59375 36.796875 60.78125 36.796875 53.46875 \nC 36.796875 47.765625 34.296875 43.859375 27.796875 39.65625 \nz\n\" id=\"URW_Palladio_L_Roman-56\"/>\n       </defs>\n       <use transform=\"scale(0.996264)\" xlink:href=\"#URW_Palladio_L_Roman-48\"/>\n       <use transform=\"translate(49.8132 0)scale(0.996264)\" xlink:href=\"#URW_Palladio_L_Roman-46\"/>\n       <use transform=\"translate(74.719801 0)scale(0.996264)\" xlink:href=\"#URW_Palladio_L_Roman-56\"/>\n      </g>\n     </g>\n    </g>\n    <g id=\"ytick_6\">\n     <g id=\"line2d_11\">\n      <g>\n       <use style=\"stroke:#000000;stroke-width:0.8;\" x=\"32.87995\" xlink:href=\"#m6b51616209\" y=\"17.083636\"/>\n      </g>\n     </g>\n     <g id=\"text_11\">\n      <!-- $\\mathdefault{1.0}$ -->\n      <g transform=\"translate(7.2 22.429814)scale(0.15 -0.15)\">\n       <defs>\n        <path d=\"M 6.703125 55.796875 \nL 7.703125 55.796875 \nL 20.59375 61.59375 \nC 20.703125 61.703125 20.796875 61.703125 20.90625 61.703125 \nC 21.5 61.703125 21.703125 60.796875 21.703125 58.390625 \nL 21.703125 9.890625 \nC 21.703125 4.6875 20.59375 3.59375 15.203125 3.296875 \nL 9.59375 3 \nL 9.59375 0 \nC 25 0 25 0 26.09375 0 \nC 27.40625 0 29.59375 0 33 -0.109375 \nC 34.203125 0.09375 37.703125 0.09375 41.796875 0 \nL 41.796875 3 \nL 36.59375 3.296875 \nC 31.09375 3.578125 30.09375 4.671875 30.09375 9.8125 \nL 30.09375 68.484375 \nL 28.703125 69 \nC 22.203125 65.609375 15.09375 62.640625 6 59.484375 \nz\n\" id=\"URW_Palladio_L_Roman-49\"/>\n       </defs>\n       <use transform=\"scale(0.996264)\" xlink:href=\"#URW_Palladio_L_Roman-49\"/>\n       <use transform=\"translate(49.8132 0)scale(0.996264)\" xlink:href=\"#URW_Palladio_L_Roman-46\"/>\n       <use transform=\"translate(74.719801 0)scale(0.996264)\" xlink:href=\"#URW_Palladio_L_Roman-48\"/>\n      </g>\n     </g>\n    </g>\n   </g>\n   <g id=\"line2d_12\">\n    <path clip-path=\"url(#pae01c55696)\" d=\"M 48.098132 214.756364 \nL 53.308871 209.862969 \nL 58.842529 205.06946 \nL 64.683677 200.363903 \nL 70.844463 195.737489 \nL 77.338486 191.183086 \nL 84.178311 186.694677 \nL 91.374671 182.267052 \nL 98.935805 177.89562 \nL 106.866723 173.576281 \nL 115.168392 169.305332 \nL 123.83683 165.079403 \nL 132.86217 160.895398 \nL 142.227729 156.750456 \nL 151.909157 152.64192 \nL 161.873746 148.567304 \nL 172.080006 144.524272 \nL 182.477598 140.510621 \nL 193.00772 136.524261 \nL 203.604019 132.5632 \nL 214.194044 128.625535 \nL 224.70123 124.709437 \nL 235.047297 120.813143 \nL 245.154936 116.934946 \nL 254.950562 113.073188 \nL 264.366925 109.22625 \nL 273.34536 105.392545 \nL 281.837502 101.570513 \nL 289.806356 97.758613 \nL 297.226688 93.955315 \nL 304.08477 90.159096 \nL 310.377578 86.36843 \nL 316.111575 82.581785 \nL 321.301235 78.797613 \nL 325.96744 75.01434 \nL 330.135884 71.230364 \nL 333.83557 67.44404 \nL 337.097473 63.65367 \nL 339.953392 59.857494 \nL 342.435005 56.053673 \nL 344.573124 52.240273 \nL 346.397125 48.415247 \nL 347.93452 44.576406 \nL 349.210644 40.721392 \nL 350.24842 36.847632 \nL 351.068142 32.952291 \nL 351.687237 29.03219 \nL 352.119895 25.083698 \nL 352.376401 21.102565 \nL 352.461768 17.083636 \n\" style=\"fill:none;stroke:#1f77b4;stroke-linecap:square;stroke-width:1.5;\"/>\n   </g>\n   <g id=\"patch_3\">\n    <path d=\"M 32.87995 224.64 \nL 32.87995 7.2 \n\" style=\"fill:none;stroke:#000000;stroke-linecap:square;stroke-linejoin:miter;stroke-width:0.8;\"/>\n   </g>\n   <g id=\"patch_4\">\n    <path d=\"M 367.67995 224.64 \nL 367.67995 7.2 \n\" style=\"fill:none;stroke:#000000;stroke-linecap:square;stroke-linejoin:miter;stroke-width:0.8;\"/>\n   </g>\n   <g id=\"patch_5\">\n    <path d=\"M 32.87995 224.64 \nL 367.67995 224.64 \n\" style=\"fill:none;stroke:#000000;stroke-linecap:square;stroke-linejoin:miter;stroke-width:0.8;\"/>\n   </g>\n   <g id=\"patch_6\">\n    <path d=\"M 32.87995 7.2 \nL 367.67995 7.2 \n\" style=\"fill:none;stroke:#000000;stroke-linecap:square;stroke-linejoin:miter;stroke-width:0.8;\"/>\n   </g>\n  </g>\n </g>\n <defs>\n  <clipPath id=\"pae01c55696\">\n   <rect height=\"217.44\" width=\"334.8\" x=\"32.87995\" y=\"7.2\"/>\n  </clipPath>\n </defs>\n</svg>\n",
      "image/png": "[encoded data removed]"
     },
     "metadata": {
      "needs_background": "light"
     }
    }
   ],
   "source": [
    "plt.plot(corr, frac)"
   ]
  },
  {
   "cell_type": "code",
   "execution_count": 217,
   "metadata": {},
   "outputs": [],
   "source": [
    "corr2frac0 = CubicSpline(corr, frac)\n",
    "frac0 = corr2frac0(cors_s)\n",
    "frac0_up = corr2frac0(cors_s + cors_s_err)\n",
    "frac0_low = corr2frac0(cors_s - cors_s_err)"
   ]
  },
  {
   "cell_type": "code",
   "execution_count": 162,
   "metadata": {},
   "outputs": [],
   "source": [
    "frac1 = np.loadtxt(\"frac0\")"
   ]
  },
  {
   "cell_type": "code",
   "execution_count": 218,
   "metadata": {},
   "outputs": [
    {
     "output_type": "execute_result",
     "data": {
      "text/plain": [
       "[<matplotlib.lines.Line2D at 0x135e5c940>]"
      ]
     },
     "metadata": {},
     "execution_count": 218
    },
    {
     "output_type": "display_data",
     "data": {
      "text/plain": "<Figure size 432x288 with 1 Axes>",
      "image/svg+xml": "<?xml version=\"1.0\" encoding=\"utf-8\" standalone=\"no\"?>\n<!DOCTYPE svg PUBLIC \"-//W3C//DTD SVG 1.1//EN\"\n  \"http://www.w3.org/Graphics/SVG/1.1/DTD/svg11.dtd\">\n<!-- Created with matplotlib (https://matplotlib.org/) -->\n<svg height=\"253.746473pt\" version=\"1.1\" viewBox=\"0 0 374.87995 253.746473\" width=\"374.87995pt\" xmlns=\"http://www.w3.org/2000/svg\" xmlns:xlink=\"http://www.w3.org/1999/xlink\">\n <metadata>\n  <rdf:RDF xmlns:cc=\"http://creativecommons.org/ns#\" xmlns:dc=\"http://purl.org/dc/elements/1.1/\" xmlns:rdf=\"http://www.w3.org/1999/02/22-rdf-syntax-ns#\">\n   <cc:Work>\n    <dc:type rdf:resource=\"http://purl.org/dc/dcmitype/StillImage\"/>\n    <dc:date>2021-11-22T19:06:28.772659</dc:date>\n    <dc:format>image/svg+xml</dc:format>\n    <dc:creator>\n     <cc:Agent>\n      <dc:title>Matplotlib v3.3.4, https://matplotlib.org/</dc:title>\n     </cc:Agent>\n    </dc:creator>\n   </cc:Work>\n  </rdf:RDF>\n </metadata>\n <defs>\n  <style type=\"text/css\">*{stroke-linecap:butt;stroke-linejoin:round;}</style>\n </defs>\n <g id=\"figure_1\">\n  <g id=\"patch_1\">\n   <path d=\"M 0 253.746473 \nL 374.87995 253.746473 \nL 374.87995 0 \nL 0 0 \nz\n\" style=\"fill:none;\"/>\n  </g>\n  <g id=\"axes_1\">\n   <g id=\"patch_2\">\n    <path d=\"M 32.87995 224.64 \nL 367.67995 224.64 \nL 367.67995 7.2 \nL 32.87995 7.2 \nz\n\" style=\"fill:#ffffff;\"/>\n   </g>\n   <g id=\"matplotlib.axis_1\">\n    <g id=\"xtick_1\">\n     <g id=\"line2d_1\">\n      <defs>\n       <path d=\"M 0 0 \nL 0 3.5 \n\" id=\"m51642d946f\" style=\"stroke:#000000;stroke-width:0.8;\"/>\n      </defs>\n      <g>\n       <use style=\"stroke:#000000;stroke-width:0.8;\" x=\"94.213834\" xlink:href=\"#m51642d946f\" y=\"224.64\"/>\n      </g>\n     </g>\n     <g id=\"text_1\">\n      <!-- $\\mathdefault{4}$ -->\n      <g transform=\"translate(90.477844 242.332356)scale(0.15 -0.15)\">\n       <defs>\n        <path d=\"M 28 18 \nL 28 10.6875 \nC 28 4.84375 26.90625 3.484375 22 3.28125 \nL 15.796875 3 \nL 15.796875 0 \nC 29.09375 0 29.09375 0 31.5 0 \nC 33.90625 0.296875 33.90625 0.296875 47.203125 0 \nL 47.203125 3 \nL 42.40625 3.28125 \nC 37.5 3.578125 36.40625 4.84375 36.40625 10.6875 \nL 36.40625 18 \nC 42.296875 18 44.40625 17.890625 47.203125 17.609375 \nL 47.203125 24.6875 \nC 42.5 24.296875 40.59375 24.296875 39.09375 24.390625 \nL 38.796875 24.390625 \nL 36.40625 24.390625 \nL 36.40625 38.203125 \nC 36.40625 55.875 36.59375 64.40625 37.09375 68.484375 \nL 35.90625 69 \nL 28.5 66.296875 \nL 0.203125 20.296875 \nL 1.296875 18 \nz\nM 28 24.390625 \nL 6.5 24.390625 \nL 28 59.34375 \nz\n\" id=\"URW_Palladio_L_Roman-52\"/>\n       </defs>\n       <use transform=\"scale(0.996264)\" xlink:href=\"#URW_Palladio_L_Roman-52\"/>\n      </g>\n     </g>\n    </g>\n    <g id=\"xtick_2\">\n     <g id=\"line2d_2\">\n      <g>\n       <use style=\"stroke:#000000;stroke-width:0.8;\" x=\"158.775818\" xlink:href=\"#m51642d946f\" y=\"224.64\"/>\n      </g>\n     </g>\n     <g id=\"text_2\">\n      <!-- $\\mathdefault{6}$ -->\n      <g transform=\"translate(155.039828 242.332356)scale(0.15 -0.15)\">\n       <defs>\n        <path d=\"M 41.59375 66.984375 \nL 37.90625 68.6875 \nC 28.296875 65.515625 24.203125 63.53125 19.09375 59.1875 \nC 8.796875 50.578125 3.203125 38.484375 3.203125 24.765625 \nC 3.203125 8.21875 11.203125 -2 24.09375 -2 \nC 37.09375 -2 46.796875 8.3125 46.796875 21.953125 \nC 46.796875 33.484375 39.90625 41 29.296875 41 \nC 24.296875 41 21.296875 39.6875 15.40625 34.984375 \nC 14.296875 34.09375 14.203125 33.984375 13.09375 33.1875 \nC 15.203125 51.171875 23.59375 60.859375 41.59375 66.203125 \nz\nM 25.5 34.984375 \nC 33.09375 34.984375 38.203125 28.375 38.203125 18.4375 \nC 38.203125 8.015625 33.09375 1.296875 25.40625 1.296875 \nC 16.90625 1.296875 12.296875 8.609375 12.296875 22.046875 \nC 12.296875 25.5625 12.703125 27.46875 13.796875 29.171875 \nC 16 32.578125 20.703125 34.984375 25.5 34.984375 \nz\n\" id=\"URW_Palladio_L_Roman-54\"/>\n       </defs>\n       <use transform=\"scale(0.996264)\" xlink:href=\"#URW_Palladio_L_Roman-54\"/>\n      </g>\n     </g>\n    </g>\n    <g id=\"xtick_3\">\n     <g id=\"line2d_3\">\n      <g>\n       <use style=\"stroke:#000000;stroke-width:0.8;\" x=\"223.337801\" xlink:href=\"#m51642d946f\" y=\"224.64\"/>\n      </g>\n     </g>\n     <g id=\"text_3\">\n      <!-- $\\mathdefault{8}$ -->\n      <g transform=\"translate(219.601811 242.332356)scale(0.15 -0.15)\">\n       <defs>\n        <path d=\"M 16.796875 34.546875 \nC 12.703125 32.640625 11 31.546875 8.796875 29.4375 \nC 5 25.625 3 21.125 3 15.921875 \nC 3 5.59375 11.296875 -2 22.59375 -2 \nC 35.59375 -2 46.40625 8.203125 46.40625 20.625 \nC 46.40625 28.640625 42.703125 32.9375 31.296875 38.15625 \nC 40.40625 44.359375 43.59375 48.5625 43.59375 54.578125 \nC 43.59375 63.1875 36.5 69 25.90625 69 \nC 14 69 5.296875 61.390625 5.296875 50.875 \nC 5.296875 44.0625 8 40.25 16.796875 34.546875 \nz\nM 28.40625 29.53125 \nC 34.703125 26.734375 38.5 21.828125 38.5 16.421875 \nC 38.5 8 32.203125 1.390625 24.09375 1.390625 \nC 15.59375 1.390625 10.09375 7.40625 10.09375 16.71875 \nC 10.09375 24.03125 13 28.640625 20.40625 33.140625 \nz\nM 22.296875 42.359375 \nC 16 45.46875 12.796875 49.46875 12.796875 54.46875 \nC 12.796875 61.09375 17.59375 65.59375 24.703125 65.59375 \nC 32 65.59375 36.796875 60.78125 36.796875 53.46875 \nC 36.796875 47.765625 34.296875 43.859375 27.796875 39.65625 \nz\n\" id=\"URW_Palladio_L_Roman-56\"/>\n       </defs>\n       <use transform=\"scale(0.996264)\" xlink:href=\"#URW_Palladio_L_Roman-56\"/>\n      </g>\n     </g>\n    </g>\n    <g id=\"xtick_4\">\n     <g id=\"line2d_4\">\n      <g>\n       <use style=\"stroke:#000000;stroke-width:0.8;\" x=\"287.899785\" xlink:href=\"#m51642d946f\" y=\"224.64\"/>\n      </g>\n     </g>\n     <g id=\"text_4\">\n      <!-- $\\mathdefault{10}$ -->\n      <g transform=\"translate(280.427805 242.332356)scale(0.15 -0.15)\">\n       <defs>\n        <path d=\"M 6.703125 55.796875 \nL 7.703125 55.796875 \nL 20.59375 61.59375 \nC 20.703125 61.703125 20.796875 61.703125 20.90625 61.703125 \nC 21.5 61.703125 21.703125 60.796875 21.703125 58.390625 \nL 21.703125 9.890625 \nC 21.703125 4.6875 20.59375 3.59375 15.203125 3.296875 \nL 9.59375 3 \nL 9.59375 0 \nC 25 0 25 0 26.09375 0 \nC 27.40625 0 29.59375 0 33 -0.109375 \nC 34.203125 0.09375 37.703125 0.09375 41.796875 0 \nL 41.796875 3 \nL 36.59375 3.296875 \nC 31.09375 3.578125 30.09375 4.671875 30.09375 9.8125 \nL 30.09375 68.484375 \nL 28.703125 69 \nC 22.203125 65.609375 15.09375 62.640625 6 59.484375 \nz\n\" id=\"URW_Palladio_L_Roman-49\"/>\n        <path d=\"M 26.296875 69 \nC 10.796875 69 2.90625 56.6875 2.90625 32.4375 \nC 2.90625 20.71875 5 10.609375 8.5 5.703125 \nC 12 0.796875 17.59375 -2 23.796875 -2 \nC 38.90625 -2 46.5 11 46.5 36.640625 \nC 46.5 58.578125 40 69 26.296875 69 \nz\nM 24.5 65.484375 \nC 34.203125 65.484375 38.09375 55.671875 38.09375 31.640625 \nC 38.09375 10.3125 34.296875 1.5 25.09375 1.5 \nC 15.40625 1.5 11.296875 11.609375 11.296875 36.046875 \nC 11.296875 57.1875 15 65.484375 24.5 65.484375 \nz\n\" id=\"URW_Palladio_L_Roman-48\"/>\n       </defs>\n       <use transform=\"scale(0.996264)\" xlink:href=\"#URW_Palladio_L_Roman-49\"/>\n       <use transform=\"translate(49.8132 0)scale(0.996264)\" xlink:href=\"#URW_Palladio_L_Roman-48\"/>\n      </g>\n     </g>\n    </g>\n    <g id=\"xtick_5\">\n     <g id=\"line2d_5\">\n      <g>\n       <use style=\"stroke:#000000;stroke-width:0.8;\" x=\"352.461768\" xlink:href=\"#m51642d946f\" y=\"224.64\"/>\n      </g>\n     </g>\n     <g id=\"text_5\">\n      <!-- $\\mathdefault{12}$ -->\n      <g transform=\"translate(344.989788 242.332356)scale(0.15 -0.15)\">\n       <defs>\n        <path d=\"M 1.59375 2.59375 \nL 1.59375 0 \nC 20.296875 0 20.296875 0 23.90625 0 \nC 27.5 0.296875 27.5 0.296875 46.796875 0 \nC 46.59375 2.09375 46.59375 3.09375 46.59375 4.484375 \nC 46.59375 5.78125 46.59375 6.78125 46.796875 8.96875 \nC 35.296875 8.46875 30.703125 8.375 12.203125 7.96875 \nL 30.40625 27.203125 \nC 40.09375 37.46875 43.09375 42.953125 43.09375 50.4375 \nC 43.09375 61.890625 35.296875 69 22.59375 69 \nC 15.40625 69 10.5 66.984375 5.59375 61.984375 \nL 3.90625 48.4375 \nL 6.796875 48.4375 \nL 8.09375 53.03125 \nC 9.703125 58.796875 13.296875 61.296875 20 61.296875 \nC 28.59375 61.296875 34.09375 55.90625 34.09375 47.4375 \nC 34.09375 39.96875 29.90625 32.59375 18.59375 20.625 \nz\n\" id=\"URW_Palladio_L_Roman-50\"/>\n       </defs>\n       <use transform=\"scale(0.996264)\" xlink:href=\"#URW_Palladio_L_Roman-49\"/>\n       <use transform=\"translate(49.8132 0)scale(0.996264)\" xlink:href=\"#URW_Palladio_L_Roman-50\"/>\n      </g>\n     </g>\n    </g>\n   </g>\n   <g id=\"matplotlib.axis_2\">\n    <g id=\"ytick_1\">\n     <g id=\"line2d_6\">\n      <defs>\n       <path d=\"M 0 0 \nL -3.5 0 \n\" id=\"mfb51d902f4\" style=\"stroke:#000000;stroke-width:0.8;\"/>\n      </defs>\n      <g>\n       <use style=\"stroke:#000000;stroke-width:0.8;\" x=\"32.87995\" xlink:href=\"#mfb51d902f4\" y=\"214.643397\"/>\n      </g>\n     </g>\n     <g id=\"text_6\">\n      <!-- $\\mathdefault{0.0}$ -->\n      <g transform=\"translate(7.2 219.989575)scale(0.15 -0.15)\">\n       <defs>\n        <path d=\"M 12.40625 10.59375 \nC 9.40625 10.59375 6.703125 7.796875 6.703125 4.796875 \nC 6.703125 1.796875 9.40625 -1 12.296875 -1 \nC 15.5 -1 18.296875 1.6875 18.296875 4.796875 \nC 18.296875 7.796875 15.5 10.59375 12.40625 10.59375 \nz\n\" id=\"URW_Palladio_L_Roman-46\"/>\n       </defs>\n       <use transform=\"scale(0.996264)\" xlink:href=\"#URW_Palladio_L_Roman-48\"/>\n       <use transform=\"translate(49.8132 0)scale(0.996264)\" xlink:href=\"#URW_Palladio_L_Roman-46\"/>\n       <use transform=\"translate(74.719801 0)scale(0.996264)\" xlink:href=\"#URW_Palladio_L_Roman-48\"/>\n      </g>\n     </g>\n    </g>\n    <g id=\"ytick_2\">\n     <g id=\"line2d_7\">\n      <g>\n       <use style=\"stroke:#000000;stroke-width:0.8;\" x=\"32.87995\" xlink:href=\"#mfb51d902f4\" y=\"176.193058\"/>\n      </g>\n     </g>\n     <g id=\"text_7\">\n      <!-- $\\mathdefault{0.1}$ -->\n      <g transform=\"translate(7.2 181.539236)scale(0.15 -0.15)\">\n       <use transform=\"scale(0.996264)\" xlink:href=\"#URW_Palladio_L_Roman-48\"/>\n       <use transform=\"translate(49.8132 0)scale(0.996264)\" xlink:href=\"#URW_Palladio_L_Roman-46\"/>\n       <use transform=\"translate(74.719801 0)scale(0.996264)\" xlink:href=\"#URW_Palladio_L_Roman-49\"/>\n      </g>\n     </g>\n    </g>\n    <g id=\"ytick_3\">\n     <g id=\"line2d_8\">\n      <g>\n       <use style=\"stroke:#000000;stroke-width:0.8;\" x=\"32.87995\" xlink:href=\"#mfb51d902f4\" y=\"137.742719\"/>\n      </g>\n     </g>\n     <g id=\"text_8\">\n      <!-- $\\mathdefault{0.2}$ -->\n      <g transform=\"translate(7.2 143.088897)scale(0.15 -0.15)\">\n       <use transform=\"scale(0.996264)\" xlink:href=\"#URW_Palladio_L_Roman-48\"/>\n       <use transform=\"translate(49.8132 0)scale(0.996264)\" xlink:href=\"#URW_Palladio_L_Roman-46\"/>\n       <use transform=\"translate(74.719801 0)scale(0.996264)\" xlink:href=\"#URW_Palladio_L_Roman-50\"/>\n      </g>\n     </g>\n    </g>\n    <g id=\"ytick_4\">\n     <g id=\"line2d_9\">\n      <g>\n       <use style=\"stroke:#000000;stroke-width:0.8;\" x=\"32.87995\" xlink:href=\"#mfb51d902f4\" y=\"99.29238\"/>\n      </g>\n     </g>\n     <g id=\"text_9\">\n      <!-- $\\mathdefault{0.3}$ -->\n      <g transform=\"translate(7.2 104.638558)scale(0.15 -0.15)\">\n       <defs>\n        <path d=\"M 4.296875 49.9375 \nL 7.40625 49.9375 \nL 9.203125 55.515625 \nC 10.296875 58.90625 16.59375 62.296875 21.796875 62.296875 \nC 28.296875 62.296875 33.59375 57.015625 33.59375 50.734375 \nC 33.59375 43.265625 27.703125 37 20.59375 37 \nC 19.796875 37 18.703125 37.09375 17.40625 37.1875 \nL 15.90625 37.296875 \nL 14.703125 31.984375 \nL 15.40625 31.375 \nC 19.203125 33.09375 21.09375 33.59375 23.796875 33.59375 \nC 32.09375 33.59375 36.90625 28.25 36.90625 19.09375 \nC 36.90625 8.828125 30.796875 2.09375 21.5 2.09375 \nC 16.90625 2.09375 12.796875 3.609375 9.796875 6.421875 \nC 7.40625 8.640625 6.09375 10.953125 4.203125 16.375 \nL 1.5 15.375 \nC 3.59375 9.234375 4.40625 5.609375 5 0.59375 \nC 10.296875 -1.203125 14.703125 -2 18.40625 -2 \nC 26.40625 -2 35.59375 2.5 41.09375 9.234375 \nC 44.5 13.359375 46.203125 17.796875 46.203125 22.515625 \nC 46.203125 27.34375 44.203125 31.578125 40.59375 34.09375 \nC 38.09375 35.890625 35.796875 36.6875 30.796875 37.59375 \nC 38.796875 43.765625 41.796875 48.34375 41.796875 54.21875 \nC 41.796875 63.09375 34.40625 69 23.296875 69 \nC 16.5 69 12 67.09375 7.203125 62.296875 \nz\n\" id=\"URW_Palladio_L_Roman-51\"/>\n       </defs>\n       <use transform=\"scale(0.996264)\" xlink:href=\"#URW_Palladio_L_Roman-48\"/>\n       <use transform=\"translate(49.8132 0)scale(0.996264)\" xlink:href=\"#URW_Palladio_L_Roman-46\"/>\n       <use transform=\"translate(74.719801 0)scale(0.996264)\" xlink:href=\"#URW_Palladio_L_Roman-51\"/>\n      </g>\n     </g>\n    </g>\n    <g id=\"ytick_5\">\n     <g id=\"line2d_10\">\n      <g>\n       <use style=\"stroke:#000000;stroke-width:0.8;\" x=\"32.87995\" xlink:href=\"#mfb51d902f4\" y=\"60.842041\"/>\n      </g>\n     </g>\n     <g id=\"text_10\">\n      <!-- $\\mathdefault{0.4}$ -->\n      <g transform=\"translate(7.2 66.188219)scale(0.15 -0.15)\">\n       <use transform=\"scale(0.996264)\" xlink:href=\"#URW_Palladio_L_Roman-48\"/>\n       <use transform=\"translate(49.8132 0)scale(0.996264)\" xlink:href=\"#URW_Palladio_L_Roman-46\"/>\n       <use transform=\"translate(74.719801 0)scale(0.996264)\" xlink:href=\"#URW_Palladio_L_Roman-52\"/>\n      </g>\n     </g>\n    </g>\n    <g id=\"ytick_6\">\n     <g id=\"line2d_11\">\n      <g>\n       <use style=\"stroke:#000000;stroke-width:0.8;\" x=\"32.87995\" xlink:href=\"#mfb51d902f4\" y=\"22.391702\"/>\n      </g>\n     </g>\n     <g id=\"text_11\">\n      <!-- $\\mathdefault{0.5}$ -->\n      <g transform=\"translate(7.2 27.73788)scale(0.15 -0.15)\">\n       <defs>\n        <path d=\"M 12.703125 60.796875 \nC 25.59375 60.390625 31.203125 60.296875 43.203125 60.296875 \nL 43.703125 60.796875 \nC 43.5 62.59375 43.5 63.390625 43.5 64.6875 \nC 43.5 66.09375 43.5 66.890625 43.703125 68.6875 \nL 43.203125 69.1875 \nC 35.703125 68.796875 31.203125 68.6875 25.796875 68.6875 \nC 20.296875 68.6875 15.90625 68.796875 8.40625 69.1875 \nL 7.90625 68.6875 \nC 8 62.59375 8.09375 58.1875 8.09375 55 \nC 8.09375 46.5 7.796875 36.875 7.5 32.4375 \nL 9.5 31.84375 \nC 14.203125 36.578125 16.90625 38 21.796875 38 \nC 31.40625 38 37.40625 31.125 37.40625 20.234375 \nC 37.40625 9.046875 31 2.5 20.09375 2.5 \nC 14.703125 2.5 9.703125 4.3125 8.296875 6.921875 \nL 3.703125 15.203125 \nL 1.296875 13.78125 \nC 3.59375 8.03125 4.796875 4.8125 6.203125 0.390625 \nC 9 -1.109375 13 -2 17.296875 -2 \nC 24 -2 31.09375 0.890625 36.59375 5.71875 \nC 42.703125 11.171875 45.90625 18.015625 45.90625 25.484375 \nC 45.90625 36.875 37.796875 44.890625 26.40625 44.890625 \nC 21.59375 44.890625 18 43.59375 11.796875 39.890625 \nz\n\" id=\"URW_Palladio_L_Roman-53\"/>\n       </defs>\n       <use transform=\"scale(0.996264)\" xlink:href=\"#URW_Palladio_L_Roman-48\"/>\n       <use transform=\"translate(49.8132 0)scale(0.996264)\" xlink:href=\"#URW_Palladio_L_Roman-46\"/>\n       <use transform=\"translate(74.719801 0)scale(0.996264)\" xlink:href=\"#URW_Palladio_L_Roman-53\"/>\n      </g>\n     </g>\n    </g>\n   </g>\n   <g id=\"line2d_12\">\n    <path clip-path=\"url(#p198cf9d601)\" d=\"M 48.098132 212.584629 \nL 55.344885 209.359418 \nL 62.591638 205.65857 \nL 69.838392 201.917228 \nL 77.085145 198.401367 \nL 84.331898 195.214909 \nL 91.578651 192.377475 \nL 98.825405 189.869754 \nL 106.072158 187.65259 \nL 113.318911 185.679995 \nL 120.565664 183.905545 \nL 127.812418 182.284972 \nL 135.059171 180.776987 \nL 142.305924 179.343412 \nL 149.552677 177.949183 \nL 156.799431 176.562536 \nL 164.046184 175.155541 \nL 171.292937 173.704913 \nL 178.53969 172.193062 \nL 185.786444 170.609115 \nL 193.033197 168.949605 \nL 200.27995 167.218471 \nL 207.526703 165.426235 \nL 214.773457 163.588223 \nL 222.02021 161.722199 \nL 229.266963 159.845859 \nL 236.513716 157.974629 \nL 243.76047 156.120116 \nL 251.007223 154.289184 \nL 258.253976 152.483759 \nL 265.500729 150.701132 \nL 272.747483 148.934603 \nL 279.994236 147.174213 \nL 287.240989 145.407474 \nL 294.487742 143.620128 \nL 301.734496 141.796978 \nL 308.981249 139.922934 \nL 316.228002 137.98439 \nL 323.474755 135.971226 \nL 330.721509 133.879818 \nL 337.968262 131.717398 \nL 345.215015 129.507786 \nL 352.461768 127.297722 \n\" style=\"fill:none;stroke:#1f77b4;stroke-linecap:square;stroke-width:1.5;\"/>\n   </g>\n   <g id=\"line2d_13\">\n    <path clip-path=\"url(#p198cf9d601)\" d=\"M 48.098132 214.756364 \nL 55.344885 212.462847 \nL 62.591638 207.295915 \nL 69.838392 199.923004 \nL 77.085145 190.954902 \nL 84.331898 180.927103 \nL 91.578651 170.30492 \nL 98.825405 159.489421 \nL 106.072158 148.747103 \nL 113.318911 138.227503 \nL 120.565664 128.062862 \nL 127.812418 118.376933 \nL 135.059171 109.237757 \nL 142.305924 100.646446 \nL 149.552677 92.610307 \nL 156.799431 85.147737 \nL 164.046184 78.268189 \nL 171.292937 71.818807 \nL 178.53969 65.837813 \nL 185.786444 60.290772 \nL 193.033197 55.111285 \nL 200.27995 50.39895 \nL 207.526703 45.976723 \nL 214.773457 42.25032 \nL 222.02021 38.746364 \nL 229.266963 36.016198 \nL 236.513716 34.878415 \nL 243.76047 35.268578 \nL 251.007223 41.445107 \nL 258.253976 47.270762 \nL 265.500729 53.821749 \nL 272.747483 59.520302 \nL 279.994236 61.767704 \nL 287.240989 63.804329 \nL 294.487742 61.23978 \nL 301.734496 57.409869 \nL 308.981249 52.658887 \nL 316.228002 47.505806 \nL 323.474755 42.730167 \nL 330.721509 38.320938 \nL 337.968262 32.447456 \nL 345.215015 24.917999 \nL 352.461768 17.083636 \n\" style=\"fill:none;stroke:#ff7f0e;stroke-linecap:square;stroke-width:1.5;\"/>\n   </g>\n   <g id=\"patch_3\">\n    <path d=\"M 32.87995 224.64 \nL 32.87995 7.2 \n\" style=\"fill:none;stroke:#000000;stroke-linecap:square;stroke-linejoin:miter;stroke-width:0.8;\"/>\n   </g>\n   <g id=\"patch_4\">\n    <path d=\"M 367.67995 224.64 \nL 367.67995 7.2 \n\" style=\"fill:none;stroke:#000000;stroke-linecap:square;stroke-linejoin:miter;stroke-width:0.8;\"/>\n   </g>\n   <g id=\"patch_5\">\n    <path d=\"M 32.87995 224.64 \nL 367.67995 224.64 \n\" style=\"fill:none;stroke:#000000;stroke-linecap:square;stroke-linejoin:miter;stroke-width:0.8;\"/>\n   </g>\n   <g id=\"patch_6\">\n    <path d=\"M 32.87995 7.2 \nL 367.67995 7.2 \n\" style=\"fill:none;stroke:#000000;stroke-linecap:square;stroke-linejoin:miter;stroke-width:0.8;\"/>\n   </g>\n  </g>\n </g>\n <defs>\n  <clipPath id=\"p198cf9d601\">\n   <rect height=\"217.44\" width=\"334.8\" x=\"32.87995\" y=\"7.2\"/>\n  </clipPath>\n </defs>\n</svg>\n",
      "image/png": "[encoded data removed]"
     },
     "metadata": {
      "needs_background": "light"
     }
    }
   ],
   "source": [
    "plt.plot(np.linspace(1, 12)[7:], frac0[7:])\n",
    "plt.plot(np.linspace(1, 12)[7:], frac1[7:])"
   ]
  },
  {
   "cell_type": "code",
   "execution_count": 219,
   "metadata": {},
   "outputs": [],
   "source": [
    "np.savetxt(\"case_b_s\", [frac0, frac0_up, frac0_low])"
   ]
  },
  {
   "cell_type": "code",
   "execution_count": 230,
   "metadata": {},
   "outputs": [
    {
     "output_type": "execute_result",
     "data": {
      "text/plain": [
       "(-4.0, 4.0)"
      ]
     },
     "metadata": {},
     "execution_count": 230
    },
    {
     "output_type": "display_data",
     "data": {
      "text/plain": "<Figure size 432x288 with 1 Axes>",
      "image/svg+xml": "<?xml version=\"1.0\" encoding=\"utf-8\" standalone=\"no\"?>\n<!DOCTYPE svg PUBLIC \"-//W3C//DTD SVG 1.1//EN\"\n  \"http://www.w3.org/Graphics/SVG/1.1/DTD/svg11.dtd\">\n<!-- Created with matplotlib (https://matplotlib.org/) -->\n<svg height=\"253.746473pt\" version=\"1.1\" viewBox=\"0 0 378.61594 253.746473\" width=\"378.61594pt\" xmlns=\"http://www.w3.org/2000/svg\" xmlns:xlink=\"http://www.w3.org/1999/xlink\">\n <metadata>\n  <rdf:RDF xmlns:cc=\"http://creativecommons.org/ns#\" xmlns:dc=\"http://purl.org/dc/elements/1.1/\" xmlns:rdf=\"http://www.w3.org/1999/02/22-rdf-syntax-ns#\">\n   <cc:Work>\n    <dc:type rdf:resource=\"http://purl.org/dc/dcmitype/StillImage\"/>\n    <dc:date>2021-11-26T04:46:41.987208</dc:date>\n    <dc:format>image/svg+xml</dc:format>\n    <dc:creator>\n     <cc:Agent>\n      <dc:title>Matplotlib v3.3.4, https://matplotlib.org/</dc:title>\n     </cc:Agent>\n    </dc:creator>\n   </cc:Work>\n  </rdf:RDF>\n </metadata>\n <defs>\n  <style type=\"text/css\">*{stroke-linecap:butt;stroke-linejoin:round;}</style>\n </defs>\n <g id=\"figure_1\">\n  <g id=\"patch_1\">\n   <path d=\"M 0 253.746473 \nL 378.61594 253.746473 \nL 378.61594 0 \nL 0 0 \nz\n\" style=\"fill:none;\"/>\n  </g>\n  <g id=\"axes_1\">\n   <g id=\"patch_2\">\n    <path d=\"M 32.87995 224.64 \nL 367.67995 224.64 \nL 367.67995 7.2 \nL 32.87995 7.2 \nz\n\" style=\"fill:#ffffff;\"/>\n   </g>\n   <g id=\"PolyCollection_1\">\n    <defs>\n     <path d=\"M 367.67995 -38.990109 \nL 242.12995 -38.990109 \nL 242.12995 -236.662836 \nL 367.67995 -236.662836 \nL 367.67995 -236.662836 \nL 367.67995 -38.990109 \nz\n\" id=\"m426abae51a\" style=\"stroke:#7f7f7f;\"/>\n    </defs>\n    <g clip-path=\"url(#pb522df0e12)\">\n     <use style=\"fill:#7f7f7f;stroke:#7f7f7f;\" x=\"0\" xlink:href=\"#m426abae51a\" y=\"253.746473\"/>\n    </g>\n   </g>\n   <g id=\"PolyCollection_2\">\n    <defs>\n     <path d=\"M 158.42995 -38.990109 \nL 200.27995 -38.990109 \nL 200.27995 -236.662836 \nL 158.42995 -236.662836 \nL 158.42995 -236.662836 \nL 158.42995 -38.990109 \nz\n\" id=\"ma791ec83fc\" style=\"stroke:#7f7f7f;\"/>\n    </defs>\n    <g clip-path=\"url(#pb522df0e12)\">\n     <use style=\"fill:#7f7f7f;stroke:#7f7f7f;\" x=\"0\" xlink:href=\"#ma791ec83fc\" y=\"253.746473\"/>\n    </g>\n   </g>\n   <g id=\"matplotlib.axis_1\">\n    <g id=\"xtick_1\">\n     <g id=\"line2d_1\">\n      <defs>\n       <path d=\"M 0 0 \nL 0 3.5 \n\" id=\"m52b6ded73d\" style=\"stroke:#000000;stroke-width:0.8;\"/>\n      </defs>\n      <g>\n       <use style=\"stroke:#000000;stroke-width:0.8;\" x=\"32.87995\" xlink:href=\"#m52b6ded73d\" y=\"224.64\"/>\n      </g>\n     </g>\n     <g id=\"text_1\">\n      <!-- $\\mathdefault{−4}$ -->\n      <g transform=\"translate(22.998328 242.332356)scale(0.15 -0.15)\">\n       <defs>\n        <path d=\"M 65.90625 23 \nC 67.59375 23 69.40625 23 69.40625 25 \nC 69.40625 27 67.59375 27 65.90625 27 \nL 11.796875 27 \nC 10.09375 27 8.296875 27 8.296875 25 \nC 8.296875 23 10.09375 23 11.796875 23 \nz\n\" id=\"CMSY10-0\"/>\n        <path d=\"M 28 18 \nL 28 10.6875 \nC 28 4.84375 26.90625 3.484375 22 3.28125 \nL 15.796875 3 \nL 15.796875 0 \nC 29.09375 0 29.09375 0 31.5 0 \nC 33.90625 0.296875 33.90625 0.296875 47.203125 0 \nL 47.203125 3 \nL 42.40625 3.28125 \nC 37.5 3.578125 36.40625 4.84375 36.40625 10.6875 \nL 36.40625 18 \nC 42.296875 18 44.40625 17.890625 47.203125 17.609375 \nL 47.203125 24.6875 \nC 42.5 24.296875 40.59375 24.296875 39.09375 24.390625 \nL 38.796875 24.390625 \nL 36.40625 24.390625 \nL 36.40625 38.203125 \nC 36.40625 55.875 36.59375 64.40625 37.09375 68.484375 \nL 35.90625 69 \nL 28.5 66.296875 \nL 0.203125 20.296875 \nL 1.296875 18 \nz\nM 28 24.390625 \nL 6.5 24.390625 \nL 28 59.34375 \nz\n\" id=\"URW_Palladio_L_Roman-52\"/>\n       </defs>\n       <use transform=\"scale(1.038107)\" xlink:href=\"#CMSY10-0\"/>\n       <use transform=\"translate(81.941696 0)scale(0.996264)\" xlink:href=\"#URW_Palladio_L_Roman-52\"/>\n      </g>\n     </g>\n    </g>\n    <g id=\"xtick_2\">\n     <g id=\"line2d_2\">\n      <g>\n       <use style=\"stroke:#000000;stroke-width:0.8;\" x=\"116.57995\" xlink:href=\"#m52b6ded73d\" y=\"224.64\"/>\n      </g>\n     </g>\n     <g id=\"text_2\">\n      <!-- $\\mathdefault{−2}$ -->\n      <g transform=\"translate(106.698328 242.332356)scale(0.15 -0.15)\">\n       <defs>\n        <path d=\"M 1.59375 2.59375 \nL 1.59375 0 \nC 20.296875 0 20.296875 0 23.90625 0 \nC 27.5 0.296875 27.5 0.296875 46.796875 0 \nC 46.59375 2.09375 46.59375 3.09375 46.59375 4.484375 \nC 46.59375 5.78125 46.59375 6.78125 46.796875 8.96875 \nC 35.296875 8.46875 30.703125 8.375 12.203125 7.96875 \nL 30.40625 27.203125 \nC 40.09375 37.46875 43.09375 42.953125 43.09375 50.4375 \nC 43.09375 61.890625 35.296875 69 22.59375 69 \nC 15.40625 69 10.5 66.984375 5.59375 61.984375 \nL 3.90625 48.4375 \nL 6.796875 48.4375 \nL 8.09375 53.03125 \nC 9.703125 58.796875 13.296875 61.296875 20 61.296875 \nC 28.59375 61.296875 34.09375 55.90625 34.09375 47.4375 \nC 34.09375 39.96875 29.90625 32.59375 18.59375 20.625 \nz\n\" id=\"URW_Palladio_L_Roman-50\"/>\n       </defs>\n       <use transform=\"scale(1.038107)\" xlink:href=\"#CMSY10-0\"/>\n       <use transform=\"translate(81.941696 0)scale(0.996264)\" xlink:href=\"#URW_Palladio_L_Roman-50\"/>\n      </g>\n     </g>\n    </g>\n    <g id=\"xtick_3\">\n     <g id=\"line2d_3\">\n      <g>\n       <use style=\"stroke:#000000;stroke-width:0.8;\" x=\"200.27995\" xlink:href=\"#m52b6ded73d\" y=\"224.64\"/>\n      </g>\n     </g>\n     <g id=\"text_3\">\n      <!-- $\\mathdefault{0}$ -->\n      <g transform=\"translate(196.54396 242.332356)scale(0.15 -0.15)\">\n       <defs>\n        <path d=\"M 26.296875 69 \nC 10.796875 69 2.90625 56.6875 2.90625 32.4375 \nC 2.90625 20.71875 5 10.609375 8.5 5.703125 \nC 12 0.796875 17.59375 -2 23.796875 -2 \nC 38.90625 -2 46.5 11 46.5 36.640625 \nC 46.5 58.578125 40 69 26.296875 69 \nz\nM 24.5 65.484375 \nC 34.203125 65.484375 38.09375 55.671875 38.09375 31.640625 \nC 38.09375 10.3125 34.296875 1.5 25.09375 1.5 \nC 15.40625 1.5 11.296875 11.609375 11.296875 36.046875 \nC 11.296875 57.1875 15 65.484375 24.5 65.484375 \nz\n\" id=\"URW_Palladio_L_Roman-48\"/>\n       </defs>\n       <use transform=\"scale(0.996264)\" xlink:href=\"#URW_Palladio_L_Roman-48\"/>\n      </g>\n     </g>\n    </g>\n    <g id=\"xtick_4\">\n     <g id=\"line2d_4\">\n      <g>\n       <use style=\"stroke:#000000;stroke-width:0.8;\" x=\"283.97995\" xlink:href=\"#m52b6ded73d\" y=\"224.64\"/>\n      </g>\n     </g>\n     <g id=\"text_4\">\n      <!-- $\\mathdefault{2}$ -->\n      <g transform=\"translate(280.24396 242.332356)scale(0.15 -0.15)\">\n       <use transform=\"scale(0.996264)\" xlink:href=\"#URW_Palladio_L_Roman-50\"/>\n      </g>\n     </g>\n    </g>\n    <g id=\"xtick_5\">\n     <g id=\"line2d_5\">\n      <g>\n       <use style=\"stroke:#000000;stroke-width:0.8;\" x=\"367.67995\" xlink:href=\"#m52b6ded73d\" y=\"224.64\"/>\n      </g>\n     </g>\n     <g id=\"text_5\">\n      <!-- $\\mathdefault{4}$ -->\n      <g transform=\"translate(363.94396 242.332356)scale(0.15 -0.15)\">\n       <use transform=\"scale(0.996264)\" xlink:href=\"#URW_Palladio_L_Roman-52\"/>\n      </g>\n     </g>\n    </g>\n   </g>\n   <g id=\"matplotlib.axis_2\">\n    <g id=\"ytick_1\">\n     <g id=\"line2d_6\">\n      <defs>\n       <path d=\"M 0 0 \nL -3.5 0 \n\" id=\"me0d81ea60f\" style=\"stroke:#000000;stroke-width:0.8;\"/>\n      </defs>\n      <g>\n       <use style=\"stroke:#000000;stroke-width:0.8;\" x=\"32.87995\" xlink:href=\"#me0d81ea60f\" y=\"214.756364\"/>\n      </g>\n     </g>\n     <g id=\"text_6\">\n      <!-- $\\mathdefault{0.0}$ -->\n      <g transform=\"translate(7.2 220.102542)scale(0.15 -0.15)\">\n       <defs>\n        <path d=\"M 12.40625 10.59375 \nC 9.40625 10.59375 6.703125 7.796875 6.703125 4.796875 \nC 6.703125 1.796875 9.40625 -1 12.296875 -1 \nC 15.5 -1 18.296875 1.6875 18.296875 4.796875 \nC 18.296875 7.796875 15.5 10.59375 12.40625 10.59375 \nz\n\" id=\"URW_Palladio_L_Roman-46\"/>\n       </defs>\n       <use transform=\"scale(0.996264)\" xlink:href=\"#URW_Palladio_L_Roman-48\"/>\n       <use transform=\"translate(49.8132 0)scale(0.996264)\" xlink:href=\"#URW_Palladio_L_Roman-46\"/>\n       <use transform=\"translate(74.719801 0)scale(0.996264)\" xlink:href=\"#URW_Palladio_L_Roman-48\"/>\n      </g>\n     </g>\n    </g>\n    <g id=\"ytick_2\">\n     <g id=\"line2d_7\">\n      <g>\n       <use style=\"stroke:#000000;stroke-width:0.8;\" x=\"32.87995\" xlink:href=\"#me0d81ea60f\" y=\"175.221818\"/>\n      </g>\n     </g>\n     <g id=\"text_7\">\n      <!-- $\\mathdefault{0.2}$ -->\n      <g transform=\"translate(7.2 180.567996)scale(0.15 -0.15)\">\n       <use transform=\"scale(0.996264)\" xlink:href=\"#URW_Palladio_L_Roman-48\"/>\n       <use transform=\"translate(49.8132 0)scale(0.996264)\" xlink:href=\"#URW_Palladio_L_Roman-46\"/>\n       <use transform=\"translate(74.719801 0)scale(0.996264)\" xlink:href=\"#URW_Palladio_L_Roman-50\"/>\n      </g>\n     </g>\n    </g>\n    <g id=\"ytick_3\">\n     <g id=\"line2d_8\">\n      <g>\n       <use style=\"stroke:#000000;stroke-width:0.8;\" x=\"32.87995\" xlink:href=\"#me0d81ea60f\" y=\"135.687273\"/>\n      </g>\n     </g>\n     <g id=\"text_8\">\n      <!-- $\\mathdefault{0.4}$ -->\n      <g transform=\"translate(7.2 141.033451)scale(0.15 -0.15)\">\n       <use transform=\"scale(0.996264)\" xlink:href=\"#URW_Palladio_L_Roman-48\"/>\n       <use transform=\"translate(49.8132 0)scale(0.996264)\" xlink:href=\"#URW_Palladio_L_Roman-46\"/>\n       <use transform=\"translate(74.719801 0)scale(0.996264)\" xlink:href=\"#URW_Palladio_L_Roman-52\"/>\n      </g>\n     </g>\n    </g>\n    <g id=\"ytick_4\">\n     <g id=\"line2d_9\">\n      <g>\n       <use style=\"stroke:#000000;stroke-width:0.8;\" x=\"32.87995\" xlink:href=\"#me0d81ea60f\" y=\"96.152727\"/>\n      </g>\n     </g>\n     <g id=\"text_9\">\n      <!-- $\\mathdefault{0.6}$ -->\n      <g transform=\"translate(7.2 101.498905)scale(0.15 -0.15)\">\n       <defs>\n        <path d=\"M 41.59375 66.984375 \nL 37.90625 68.6875 \nC 28.296875 65.515625 24.203125 63.53125 19.09375 59.1875 \nC 8.796875 50.578125 3.203125 38.484375 3.203125 24.765625 \nC 3.203125 8.21875 11.203125 -2 24.09375 -2 \nC 37.09375 -2 46.796875 8.3125 46.796875 21.953125 \nC 46.796875 33.484375 39.90625 41 29.296875 41 \nC 24.296875 41 21.296875 39.6875 15.40625 34.984375 \nC 14.296875 34.09375 14.203125 33.984375 13.09375 33.1875 \nC 15.203125 51.171875 23.59375 60.859375 41.59375 66.203125 \nz\nM 25.5 34.984375 \nC 33.09375 34.984375 38.203125 28.375 38.203125 18.4375 \nC 38.203125 8.015625 33.09375 1.296875 25.40625 1.296875 \nC 16.90625 1.296875 12.296875 8.609375 12.296875 22.046875 \nC 12.296875 25.5625 12.703125 27.46875 13.796875 29.171875 \nC 16 32.578125 20.703125 34.984375 25.5 34.984375 \nz\n\" id=\"URW_Palladio_L_Roman-54\"/>\n       </defs>\n       <use transform=\"scale(0.996264)\" xlink:href=\"#URW_Palladio_L_Roman-48\"/>\n       <use transform=\"translate(49.8132 0)scale(0.996264)\" xlink:href=\"#URW_Palladio_L_Roman-46\"/>\n       <use transform=\"translate(74.719801 0)scale(0.996264)\" xlink:href=\"#URW_Palladio_L_Roman-54\"/>\n      </g>\n     </g>\n    </g>\n    <g id=\"ytick_5\">\n     <g id=\"line2d_10\">\n      <g>\n       <use style=\"stroke:#000000;stroke-width:0.8;\" x=\"32.87995\" xlink:href=\"#me0d81ea60f\" y=\"56.618182\"/>\n      </g>\n     </g>\n     <g id=\"text_10\">\n      <!-- $\\mathdefault{0.8}$ -->\n      <g transform=\"translate(7.2 61.96436)scale(0.15 -0.15)\">\n       <defs>\n        <path d=\"M 16.796875 34.546875 \nC 12.703125 32.640625 11 31.546875 8.796875 29.4375 \nC 5 25.625 3 21.125 3 15.921875 \nC 3 5.59375 11.296875 -2 22.59375 -2 \nC 35.59375 -2 46.40625 8.203125 46.40625 20.625 \nC 46.40625 28.640625 42.703125 32.9375 31.296875 38.15625 \nC 40.40625 44.359375 43.59375 48.5625 43.59375 54.578125 \nC 43.59375 63.1875 36.5 69 25.90625 69 \nC 14 69 5.296875 61.390625 5.296875 50.875 \nC 5.296875 44.0625 8 40.25 16.796875 34.546875 \nz\nM 28.40625 29.53125 \nC 34.703125 26.734375 38.5 21.828125 38.5 16.421875 \nC 38.5 8 32.203125 1.390625 24.09375 1.390625 \nC 15.59375 1.390625 10.09375 7.40625 10.09375 16.71875 \nC 10.09375 24.03125 13 28.640625 20.40625 33.140625 \nz\nM 22.296875 42.359375 \nC 16 45.46875 12.796875 49.46875 12.796875 54.46875 \nC 12.796875 61.09375 17.59375 65.59375 24.703125 65.59375 \nC 32 65.59375 36.796875 60.78125 36.796875 53.46875 \nC 36.796875 47.765625 34.296875 43.859375 27.796875 39.65625 \nz\n\" id=\"URW_Palladio_L_Roman-56\"/>\n       </defs>\n       <use transform=\"scale(0.996264)\" xlink:href=\"#URW_Palladio_L_Roman-48\"/>\n       <use transform=\"translate(49.8132 0)scale(0.996264)\" xlink:href=\"#URW_Palladio_L_Roman-46\"/>\n       <use transform=\"translate(74.719801 0)scale(0.996264)\" xlink:href=\"#URW_Palladio_L_Roman-56\"/>\n      </g>\n     </g>\n    </g>\n    <g id=\"ytick_6\">\n     <g id=\"line2d_11\">\n      <g>\n       <use style=\"stroke:#000000;stroke-width:0.8;\" x=\"32.87995\" xlink:href=\"#me0d81ea60f\" y=\"17.083636\"/>\n      </g>\n     </g>\n     <g id=\"text_11\">\n      <!-- $\\mathdefault{1.0}$ -->\n      <g transform=\"translate(7.2 22.429814)scale(0.15 -0.15)\">\n       <defs>\n        <path d=\"M 6.703125 55.796875 \nL 7.703125 55.796875 \nL 20.59375 61.59375 \nC 20.703125 61.703125 20.796875 61.703125 20.90625 61.703125 \nC 21.5 61.703125 21.703125 60.796875 21.703125 58.390625 \nL 21.703125 9.890625 \nC 21.703125 4.6875 20.59375 3.59375 15.203125 3.296875 \nL 9.59375 3 \nL 9.59375 0 \nC 25 0 25 0 26.09375 0 \nC 27.40625 0 29.59375 0 33 -0.109375 \nC 34.203125 0.09375 37.703125 0.09375 41.796875 0 \nL 41.796875 3 \nL 36.59375 3.296875 \nC 31.09375 3.578125 30.09375 4.671875 30.09375 9.8125 \nL 30.09375 68.484375 \nL 28.703125 69 \nC 22.203125 65.609375 15.09375 62.640625 6 59.484375 \nz\n\" id=\"URW_Palladio_L_Roman-49\"/>\n       </defs>\n       <use transform=\"scale(0.996264)\" xlink:href=\"#URW_Palladio_L_Roman-49\"/>\n       <use transform=\"translate(49.8132 0)scale(0.996264)\" xlink:href=\"#URW_Palladio_L_Roman-46\"/>\n       <use transform=\"translate(74.719801 0)scale(0.996264)\" xlink:href=\"#URW_Palladio_L_Roman-48\"/>\n      </g>\n     </g>\n    </g>\n   </g>\n   <g id=\"patch_3\">\n    <path d=\"M 32.87995 224.64 \nL 32.87995 7.2 \n\" style=\"fill:none;stroke:#000000;stroke-linecap:square;stroke-linejoin:miter;stroke-width:0.8;\"/>\n   </g>\n   <g id=\"patch_4\">\n    <path d=\"M 367.67995 224.64 \nL 367.67995 7.2 \n\" style=\"fill:none;stroke:#000000;stroke-linecap:square;stroke-linejoin:miter;stroke-width:0.8;\"/>\n   </g>\n   <g id=\"patch_5\">\n    <path d=\"M 32.87995 224.64 \nL 367.67995 224.64 \n\" style=\"fill:none;stroke:#000000;stroke-linecap:square;stroke-linejoin:miter;stroke-width:0.8;\"/>\n   </g>\n   <g id=\"patch_6\">\n    <path d=\"M 32.87995 7.2 \nL 367.67995 7.2 \n\" style=\"fill:none;stroke:#000000;stroke-linecap:square;stroke-linejoin:miter;stroke-width:0.8;\"/>\n   </g>\n  </g>\n </g>\n <defs>\n  <clipPath id=\"pb522df0e12\">\n   <rect height=\"217.44\" width=\"334.8\" x=\"32.87995\" y=\"7.2\"/>\n  </clipPath>\n </defs>\n</svg>\n",
      "image/png": "[encoded data removed]"
     },
     "metadata": {
      "needs_background": "light"
     }
    }
   ],
   "source": [
    "plt.fill_betweenx([0, 1], [1, 1], [4, 4], color=\"tab:gray\")\n",
    "plt.fill_betweenx([0, 1], [1 - 3/1.618, 0], [-1, -1], color=\"tab:gray\")\n",
    "\n",
    "plt.xlim((-4, 4))"
   ]
  },
  {
   "cell_type": "code",
   "execution_count": null,
   "metadata": {},
   "outputs": [],
   "source": []
  }
 ]
}