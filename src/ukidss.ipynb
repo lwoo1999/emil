{
 "nbformat": 4,
 "nbformat_minor": 2,
 "metadata": {
  "language_info": {
   "name": "python",
   "codemirror_mode": {
    "name": "ipython",
    "version": 3
   },
   "version": "3.7.4-final"
  },
  "orig_nbformat": 2,
  "file_extension": ".py",
  "mimetype": "text/x-python",
  "name": "python",
  "npconvert_exporter": "python",
  "pygments_lexer": "ipython3",
  "version": 3,
  "kernelspec": {
   "name": "python37464bit109a822c05504835bcc86f752525da10",
   "display_name": "Python 3.7.4 64-bit",
   "language": "python"
  }
 },
 "cells": [
  {
   "cell_type": "code",
   "execution_count": 1,
   "metadata": {},
   "outputs": [
    {
     "output_type": "stream",
     "name": "stdout",
     "text": [
      "initial: 105783\n",
      "select redshift: 19083\n",
      "select wise: 15666\n"
     ]
    }
   ],
   "source": [
    "%run script_init"
   ]
  },
  {
   "cell_type": "code",
   "execution_count": 2,
   "metadata": {},
   "outputs": [
    {
     "output_type": "stream",
     "name": "stdout",
     "text": [
      "initial: 105783\n",
      "select redshift: 19083\n",
      "select wise: 15666\n"
     ]
    }
   ],
   "source": [
    "oiii = for_oiii()\n",
    "oiii = oiii[oiii[\"loglbol\"] > 46]"
   ]
  },
  {
   "cell_type": "code",
   "execution_count": 3,
   "metadata": {},
   "outputs": [],
   "source": [
    "ukidss = fits.open(\"/Users/wul/Downloads/ukidss.fits\")\n",
    "ukidss_data = ukidss[1].data"
   ]
  },
  {
   "cell_type": "code",
   "execution_count": 4,
   "metadata": {},
   "outputs": [],
   "source": [
    "sample = oiii[0]"
   ]
  },
  {
   "cell_type": "code",
   "execution_count": 5,
   "metadata": {},
   "outputs": [
    {
     "output_type": "execute_result",
     "data": {
      "text/plain": "'000016.43-001833.3'"
     },
     "metadata": {},
     "execution_count": 5
    }
   ],
   "source": [
    "sample[\"sdss_name\"]"
   ]
  },
  {
   "cell_type": "code",
   "execution_count": 5,
   "metadata": {},
   "outputs": [],
   "source": [
    "ukidss.close()"
   ]
  },
  {
   "cell_type": "code",
   "execution_count": 6,
   "metadata": {},
   "outputs": [
    {
     "output_type": "execute_result",
     "data": {
      "text/plain": [
       "FITS_rec([],\n",
       "         dtype=(numpy.record, {'names':['NAME','RA','DEC','OFFSET','YMAG','YMAG_ERROR','JMAG','JMAG_ERROR','HMAG','HMAG_ERROR','KMAG','KMAG_ERROR'], 'formats':['S24','S8','S7','S7','S11','S11','S11','S11','S11','S11','S11','S12'], 'offsets':[0,25,34,42,50,62,74,86,98,110,122,134], 'itemsize':146}))"
      ]
     },
     "metadata": {},
     "execution_count": 6
    }
   ],
   "source": [
    "ukidss_data[ukidss_data[\"name\"] == \"SDSS J\" + sample[\"sdss_name\"]]"
   ]
  },
  {
   "cell_type": "code",
   "execution_count": 15,
   "metadata": {},
   "outputs": [
    {
     "output_type": "execute_result",
     "data": {
      "text/plain": [
       "dict_keys(['8'])"
      ]
     },
     "metadata": {},
     "execution_count": 15
    }
   ],
   "source": [
    "{\"8\":8}.keys()"
   ]
  },
  {
   "cell_type": "code",
   "execution_count": 17,
   "metadata": {},
   "outputs": [
    {
     "output_type": "execute_result",
     "data": {
      "text/plain": [
       "217"
      ]
     },
     "metadata": {},
     "execution_count": 17
    }
   ],
   "source": [
    "len(oiii[[\"SDSS J\" + name in ukidss_data[\"name\"] for name in oiii[\"sdss_name\"]]])"
   ]
  },
  {
   "cell_type": "code",
   "execution_count": 8,
   "metadata": {},
   "outputs": [
    {
     "output_type": "execute_result",
     "data": {
      "text/plain": [
       "1891"
      ]
     },
     "metadata": {},
     "execution_count": 8
    }
   ],
   "source": [
    "len(oiii)"
   ]
  },
  {
   "cell_type": "code",
   "execution_count": 18,
   "metadata": {},
   "outputs": [
    {
     "output_type": "execute_result",
     "data": {
      "text/plain": [
       "0.11475409836065574"
      ]
     },
     "metadata": {},
     "execution_count": 18
    }
   ],
   "source": [
    "217 / 1891"
   ]
  },
  {
   "cell_type": "code",
   "execution_count": null,
   "metadata": {},
   "outputs": [],
   "source": []
  }
 ]
}